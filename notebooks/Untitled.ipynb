{
 "cells": [
  {
   "cell_type": "code",
   "execution_count": 23,
   "id": "89a3f5c8-f38c-490f-bcb3-c47a177949a1",
   "metadata": {},
   "outputs": [
    {
     "name": "stdout",
     "output_type": "stream",
     "text": [
      "[[ 2.78266198e-01  2.78266198e-01  5.55111512e-17]\n",
      " [ 8.87143854e-01  8.87123474e-01  2.03800733e-05]\n",
      " [-7.09224179e-02 -7.09207886e-02  1.62927813e-06]]\n"
     ]
    },
    {
     "data": {
      "text/plain": [
       "2.1925917679640225e-05"
      ]
     },
     "execution_count": 23,
     "metadata": {},
     "output_type": "execute_result"
    }
   ],
   "source": [
    "import numpy as np\n",
    "import matplotlib.pyplot as plt\n",
    "from zernike import RZern, FitZern\n",
    "\n",
    "pol = RZern(1)\n",
    "L, K = 360, 100\n",
    "ip = FitZern(pol, L, K)\n",
    "\n",
    "pol.make_pol_grid(ip.rho_j, ip.theta_i)\n",
    "c_true = np.random.normal(size=pol.nk)\n",
    "Phi = pol.eval_grid(c_true)\n",
    "c_hat = ip.fit(Phi)\n",
    "R = np.zeros((pol.nk, 3))\n",
    "R[:, 0] = c_true\n",
    "R[:, 1] = c_hat\n",
    "R[:, 2] = np.abs(c_true - c_hat)\n",
    "print(R)\n",
    "np.linalg.norm(c_true - c_hat)/np.linalg.norm(c_true)"
   ]
  },
  {
   "cell_type": "code",
   "execution_count": 26,
   "id": "7c4c25d4-42ba-4ebf-acfd-e3acc46a852f",
   "metadata": {},
   "outputs": [
    {
     "data": {
      "text/plain": [
       "-0.608877656154573"
      ]
     },
     "execution_count": 26,
     "metadata": {},
     "output_type": "execute_result"
    }
   ],
   "source": [
    "pol.eval_a(c_true, 0.5, np.pi)"
   ]
  },
  {
   "cell_type": "code",
   "execution_count": null,
   "id": "37cbed68-8e8c-463d-88ab-aba22903b619",
   "metadata": {},
   "outputs": [],
   "source": []
  }
 ],
 "metadata": {
  "kernelspec": {
   "display_name": "Python 3 (ipykernel)",
   "language": "python",
   "name": "python3"
  },
  "language_info": {
   "codemirror_mode": {
    "name": "ipython",
    "version": 3
   },
   "file_extension": ".py",
   "mimetype": "text/x-python",
   "name": "python",
   "nbconvert_exporter": "python",
   "pygments_lexer": "ipython3",
   "version": "3.10.12"
  }
 },
 "nbformat": 4,
 "nbformat_minor": 5
}
