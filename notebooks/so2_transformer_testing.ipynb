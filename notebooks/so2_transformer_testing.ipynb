{
 "cells": [
  {
   "cell_type": "code",
   "execution_count": 1,
   "id": "7bf5774b-ef29-4539-af58-67dc670048f4",
   "metadata": {},
   "outputs": [],
   "source": [
    "import sys\n",
    "sys.path.append('/home/ckohler/workspace/bdai/projects/_experimental/fail/')\n",
    "\n",
    "import torch\n",
    "import numpy as np\n",
    "\n",
    "import escnn\n",
    "from escnn import nn as enn\n",
    "from escnn import gspaces\n",
    "from escnn import group\n",
    "\n",
    "from fail.model.so2_transformer import SO2MultiheadAttention, SO2EncoderBlock, SO2TransformerEncoder, SO2Transformer\n",
    "from fail.model.modules import SO2PoseForceEncoder"
   ]
  },
  {
   "cell_type": "code",
   "execution_count": 2,
   "id": "b0d7ffd3-8f2a-4b6f-a08f-7747c82defbc",
   "metadata": {},
   "outputs": [],
   "source": [
    "G = group.so2_group()\n",
    "gspace = gspaces.no_base_space(G)"
   ]
  },
  {
   "cell_type": "code",
   "execution_count": 3,
   "id": "413a318b-93df-4a3a-a650-ce71ff7635be",
   "metadata": {},
   "outputs": [],
   "source": [
    "t = G.bl_regular_representation(L=5)\n",
    "id = 11"
   ]
  },
  {
   "cell_type": "code",
   "execution_count": 4,
   "id": "f6e2df45-9f96-45a5-9c6d-028f6a440be4",
   "metadata": {},
   "outputs": [],
   "source": [
    "model_dim = 8\n",
    "hidden_dim = 8\n",
    "out_dim = 1\n",
    "in_type = enn.FieldType(gspace, [G.irrep(1) + G.irrep(0) + G.irrep(1) + G.irrep(0) + G.irrep(1) + G.irrep(0)])\n",
    "num_heads = 4\n",
    "# m = SO2Transformer(\n",
    "#     in_type=in_type,\n",
    "#     L=5,\n",
    "#     model_dim=model_dim,\n",
    "#     out_dim=out_dim,\n",
    "#     num_heads=num_heads,\n",
    "#     num_layers=4, \n",
    "#     dropout=0.0,\n",
    "#     input_dropout=0.0\n",
    "# )"
   ]
  },
  {
   "cell_type": "code",
   "execution_count": 18,
   "id": "549f9dfb-05a4-4073-971b-2e8a3d281c54",
   "metadata": {},
   "outputs": [],
   "source": [
    "m = SO2PoseForceEncoder(in_type, L=5, z_dim=8)"
   ]
  },
  {
   "cell_type": "code",
   "execution_count": 6,
   "id": "1edac1fd-3c25-4dc3-b284-a37850fceb98",
   "metadata": {},
   "outputs": [
    {
     "name": "stdout",
     "output_type": "stream",
     "text": [
      "torch.Size([1, 20, 9])\n"
     ]
    }
   ],
   "source": [
    "x = torch.randn(1, 20, 9)\n",
    "print(x.shape)"
   ]
  },
  {
   "cell_type": "code",
   "execution_count": 19,
   "id": "abf9546a-615a-4282-9841-a8c2e1950b56",
   "metadata": {},
   "outputs": [
    {
     "data": {
      "text/plain": [
       "torch.Size([10, 88])"
      ]
     },
     "execution_count": 19,
     "metadata": {},
     "output_type": "execute_result"
    }
   ],
   "source": [
    "y = m(x)\n",
    "y.shape"
   ]
  },
  {
   "cell_type": "code",
   "execution_count": 20,
   "id": "664d60a3-9caa-4d9f-bcba-a2fd80cdf5a9",
   "metadata": {},
   "outputs": [
    {
     "data": {
      "text/plain": [
       "tensor([31.5756, 46.5735, 46.1434, 32.4250, 40.3306, 43.4274, 46.3095, 51.5190,\n",
       "        44.5200, 49.5368], grad_fn=<LinalgVectorNormBackward0>)"
      ]
     },
     "execution_count": 20,
     "metadata": {},
     "output_type": "execute_result"
    }
   ],
   "source": [
    "torch.linalg.norm(y.tensor, dim=1)"
   ]
  },
  {
   "cell_type": "code",
   "execution_count": 21,
   "id": "d23067f5-d5ed-4318-8772-c29b689f85d7",
   "metadata": {},
   "outputs": [
    {
     "name": "stdout",
     "output_type": "stream",
     "text": [
      "Outputs' magnitudes\n",
      "[19.7772 15.1012 21.7488 20.5085 21.7323 24.6136 17.2663 17.8747 22.602  18.5206]\n",
      "##########################################################################################\n",
      "Errors' magnitudes\n",
      "[0. 0. 0. 0. 0. 0. 0. 0. 0. 0.]\n",
      "[0. 0. 0. 0. 0. 0. 0. 0. 0. 0.]\n",
      "[0. 0. 0. 0. 0. 0. 0. 0. 0. 0.]\n",
      "[0. 0. 0. 0. 0. 0. 0. 0. 0. 0.]\n",
      "[0. 0. 0. 0. 0. 0. 0. 0. 0. 0.]\n",
      "[0. 0. 0. 0. 0. 0. 0. 0. 0. 0.]\n",
      "[0. 0. 0. 0. 0. 0. 0. 0. 0. 0.]\n",
      "[0. 0. 0. 0. 0. 0. 0. 0. 0. 0.]\n",
      "##########################################################################################\n",
      "\n"
     ]
    }
   ],
   "source": [
    "np.set_printoptions(linewidth=10000, precision=4, suppress=True)\n",
    "\n",
    "m.eval()\n",
    "B = 10\n",
    "L = 20\n",
    "x = torch.randn(B, L, 9)\n",
    "\n",
    "with torch.no_grad():\n",
    "    y = m(x)\n",
    "    print(\"Outputs' magnitudes\")\n",
    "    print(torch.linalg.norm(y.tensor, dim=1).numpy().reshape(-1)[:10])\n",
    "    print('##########################################################################################')\n",
    "    print(\"Errors' magnitudes\")\n",
    "    for r in range(8):\n",
    "        # sample a random rotation\n",
    "        g = G.sample()\n",
    "        \n",
    "        x_transformed = (g @ m.in_type(x.view(B*L, -1))).tensor.view(B,L,-1)\n",
    "        x_transformed = x_transformed\n",
    "\n",
    "        y_transformed = m(x_transformed)\n",
    "        \n",
    "        # verify that f(g@x) = g@f(x)=g@y\n",
    "        print(torch.linalg.norm(y_transformed.tensor - (g @ y).tensor, dim=1).numpy().reshape(-1)[:10])\n",
    "        \n",
    "\n",
    "print('##########################################################################################')\n",
    "print()"
   ]
  },
  {
   "cell_type": "code",
   "execution_count": 10,
   "id": "c619b137-f5ab-49c2-be1e-f74fa2a2dad5",
   "metadata": {},
   "outputs": [
    {
     "data": {
      "text/plain": [
       "[SO(2): {[[[[[irrep_1]_[irrep_0]]_[irrep_1]]_[irrep_0]]_[irrep_1]]_[irrep_0] (x1)}(9)]"
      ]
     },
     "execution_count": 10,
     "metadata": {},
     "output_type": "execute_result"
    }
   ],
   "source": [
    "in_type"
   ]
  },
  {
   "cell_type": "code",
   "execution_count": 11,
   "id": "f5349460-59dd-4824-b397-ab5905d98f6a",
   "metadata": {},
   "outputs": [
    {
     "data": {
      "text/plain": [
       "SO(2)|[regular_5]:11"
      ]
     },
     "execution_count": 11,
     "metadata": {},
     "output_type": "execute_result"
    }
   ],
   "source": [
    "t"
   ]
  },
  {
   "cell_type": "code",
   "execution_count": 12,
   "id": "5ad04ebd-ca60-4122-8bd4-856da90d9865",
   "metadata": {},
   "outputs": [
    {
     "data": {
      "text/plain": [
       "[SO(2): {irrep_1 (x1)}(2)]"
      ]
     },
     "execution_count": 12,
     "metadata": {},
     "output_type": "execute_result"
    }
   ],
   "source": [
    "gspace.type(G.standard_representation())"
   ]
  },
  {
   "cell_type": "code",
   "execution_count": 13,
   "id": "f0ac27c0-bb8c-4b04-a3ec-09b68a804790",
   "metadata": {},
   "outputs": [
    {
     "data": {
      "text/plain": [
       "[SO(2): {irrep_1 (x1)}(2)]"
      ]
     },
     "execution_count": 13,
     "metadata": {},
     "output_type": "execute_result"
    }
   ],
   "source": [
    "gspace.type(G.irrep(1))"
   ]
  },
  {
   "cell_type": "code",
   "execution_count": 23,
   "id": "e28ced54-40c0-4b45-8b8c-e2c9c71c4097",
   "metadata": {},
   "outputs": [
    {
     "data": {
      "text/plain": [
       "15"
      ]
     },
     "execution_count": 23,
     "metadata": {},
     "output_type": "execute_result"
    }
   ],
   "source": [
    "G.bl_regular_representation(L=7).size"
   ]
  },
  {
   "cell_type": "code",
   "execution_count": 15,
   "id": "43585619-e38e-49c2-985b-2833f5c3f6e1",
   "metadata": {},
   "outputs": [
    {
     "data": {
      "text/plain": [
       "[SO(2): {regular_5 (x1)}(11)]"
      ]
     },
     "execution_count": 15,
     "metadata": {},
     "output_type": "execute_result"
    }
   ],
   "source": [
    "y.type"
   ]
  },
  {
   "cell_type": "code",
   "execution_count": 16,
   "id": "f321301d-f9ba-437d-aa75-5505f338dc86",
   "metadata": {},
   "outputs": [],
   "source": [
    "y = y.tensor.view(1,-1)"
   ]
  },
  {
   "cell_type": "code",
   "execution_count": 17,
   "id": "f9bace4e-4c58-48ce-a7eb-2d06a72b33d0",
   "metadata": {},
   "outputs": [
    {
     "data": {
      "text/plain": [
       "torch.Size([1, 110])"
      ]
     },
     "execution_count": 17,
     "metadata": {},
     "output_type": "execute_result"
    }
   ],
   "source": [
    "y.shape"
   ]
  },
  {
   "cell_type": "code",
   "execution_count": null,
   "id": "2062d8c7-d521-4e73-9bf3-98c8e1a8b03a",
   "metadata": {},
   "outputs": [],
   "source": []
  }
 ],
 "metadata": {
  "kernelspec": {
   "display_name": "Python 3 (ipykernel)",
   "language": "python",
   "name": "python3"
  },
  "language_info": {
   "codemirror_mode": {
    "name": "ipython",
    "version": 3
   },
   "file_extension": ".py",
   "mimetype": "text/x-python",
   "name": "python",
   "nbconvert_exporter": "python",
   "pygments_lexer": "ipython3",
   "version": "3.10.12"
  }
 },
 "nbformat": 4,
 "nbformat_minor": 5
}
