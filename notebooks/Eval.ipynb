{
 "cells": [
  {
   "cell_type": "code",
   "execution_count": 1,
   "id": "3e71960d-4b2a-4cbc-8c19-1743219fb827",
   "metadata": {},
   "outputs": [
    {
     "name": "stdout",
     "output_type": "stream",
     "text": [
      "pygame 2.5.2 (SDL 2.28.2, Python 3.10.12)\n",
      "Hello from the pygame community. https://www.pygame.org/contribute.html\n"
     ]
    }
   ],
   "source": [
    "import os, sys\n",
    "sys.path.append('..')\n",
    "\n",
    "import io\n",
    "import torch\n",
    "import numpy as np\n",
    "import numpy.random as npr\n",
    "import hydra\n",
    "import dill\n",
    "from tqdm import tqdm\n",
    "\n",
    "import plotly.io as pio\n",
    "pio.renderers.default = 'jupyterlab'\n",
    "from scipy.interpolate import griddata\n",
    "import plotly.graph_objs as go\n",
    "import matplotlib.pyplot as plt\n",
    "import imageio\n",
    "\n",
    "from imitation_learning.gym_util.multistep_wrapper import MultiStepWrapper\n",
    "from imitation_learning.env.pusht.pusht_keypoints_env import PushTKeypointsEnv\n",
    "from imitation_learning.workflow.base_workflow import BaseWorkflow\n",
    "from imitation_learning.utils import mcmc"
   ]
  },
  {
   "cell_type": "code",
   "execution_count": 2,
   "id": "b1afb605-11b3-4441-ab39-d46b78fcae7b",
   "metadata": {},
   "outputs": [],
   "source": [
    "# CH SO2 Lmax 5\n",
    "#checkpoint = '../data/outputs/2024.01.30/16.43.31_train_so2_harmonic_implicit_policy_pusht_lowdim/checkpoints/epoch=0450-test_mean_score=0.884.ckpt'\n",
    "\n",
    "# CH SO2 Lmax 3\n",
    "#checkpoint = '../data/outputs/2024.01.30/06.16.01_train_so2_harmonic_implicit_policy_pusht_lowdim/checkpoints/epoch=0400-test_mean_score=0.975.ckpt'\n",
    "\n",
    "# CH skip\n",
    "#checkpoint = '../data/outputs/2024.01.30/19.08.21_train_so2_harmonic_implicit_policy_pusht_lowdim/checkpoints/epoch=1550-test_mean_score=0.961.ckpt'\n",
    "\n",
    "# CH SO2 Lmax 3 - action/obs noise\n",
    "#checkpoint = '../data/outputs/2024.02.01/01.20.02_train_so2_harmonic_implicit_policy_pusht_lowdim/checkpoints/epoch=0550-test_mean_score=0.973.ckpt'\n",
    "\n",
    "checkpoint = '../data/outputs/2024.02.05/17.37.47_train_so2_harmonic_implicit_policy_pusht_lowdim/checkpoints/latest.ckpt'\n",
    "\n",
    "payload = torch.load(open(checkpoint, 'rb'), pickle_module=dill)\n",
    "device = torch.device('cuda:0')"
   ]
  },
  {
   "cell_type": "code",
   "execution_count": 3,
   "id": "75e13509-9d8e-4704-b6ca-b113f90405b2",
   "metadata": {},
   "outputs": [
    {
     "data": {
      "text/plain": [
       "ImplicitPolicy(\n",
       "  (normalizer): LinearNormalizer(\n",
       "    (params_dict): ParameterDict(\n",
       "        (obs): Object of type: ParameterDict\n",
       "        (action): Object of type: ParameterDict\n",
       "      (obs): ParameterDict(\n",
       "          (offset): Parameter containing: [torch.cuda.FloatTensor of size 38 (cuda:0)]\n",
       "          (scale): Parameter containing: [torch.cuda.FloatTensor of size 38 (cuda:0)]\n",
       "          (input_stats): Object of type: ParameterDict\n",
       "        (input_stats): ParameterDict(\n",
       "            (max): Parameter containing: [torch.cuda.FloatTensor of size 38 (cuda:0)]\n",
       "            (mean): Parameter containing: [torch.cuda.FloatTensor of size 38 (cuda:0)]\n",
       "            (min): Parameter containing: [torch.cuda.FloatTensor of size 38 (cuda:0)]\n",
       "            (std): Parameter containing: [torch.cuda.FloatTensor of size 38 (cuda:0)]\n",
       "        )\n",
       "      )\n",
       "      (action): ParameterDict(\n",
       "          (offset): Parameter containing: [torch.cuda.FloatTensor of size 2 (cuda:0)]\n",
       "          (scale): Parameter containing: [torch.cuda.FloatTensor of size 2 (cuda:0)]\n",
       "          (input_stats): Object of type: ParameterDict\n",
       "        (input_stats): ParameterDict(\n",
       "            (max): Parameter containing: [torch.cuda.FloatTensor of size 2 (cuda:0)]\n",
       "            (mean): Parameter containing: [torch.cuda.FloatTensor of size 2 (cuda:0)]\n",
       "            (min): Parameter containing: [torch.cuda.FloatTensor of size 2 (cuda:0)]\n",
       "            (std): Parameter containing: [torch.cuda.FloatTensor of size 2 (cuda:0)]\n",
       "        )\n",
       "      )\n",
       "    )\n",
       "  )\n",
       "  (energy_model): SO2HarmonicEnergyMLP(\n",
       "    (energy_mlp): SequentialModule(\n",
       "      (0): Linear(\n",
       "        (_basisexpansion): BlocksBasisExpansion(\n",
       "          (block_expansion_('irrep_1', 'regular_[(0,)|(1,)|(2,)|(3,)]')): SingleBlockBasisExpansion()\n",
       "          (block_expansion_('irrep_0', 'regular_[(0,)|(1,)|(2,)|(3,)]')): SingleBlockBasisExpansion()\n",
       "        )\n",
       "      )\n",
       "      (1): FourierPointwise()\n",
       "      (2): FieldDropout()\n",
       "      (3): Linear(\n",
       "        (_basisexpansion): BlocksBasisExpansion(\n",
       "          (block_expansion_('regular_[(0,)|(1,)|(2,)|(3,)]', 'regular_[(0,)|(1,)|(2,)|(3,)]')): SingleBlockBasisExpansion()\n",
       "        )\n",
       "      )\n",
       "      (4): FourierPointwise()\n",
       "      (5): FieldDropout()\n",
       "      (6): Linear(\n",
       "        (_basisexpansion): BlocksBasisExpansion(\n",
       "          (block_expansion_('regular_[(0,)|(1,)|(2,)|(3,)]', 'regular_[(0,)|(1,)|(2,)|(3,)]')): SingleBlockBasisExpansion()\n",
       "        )\n",
       "      )\n",
       "      (7): FourierPointwise()\n",
       "      (8): FieldDropout()\n",
       "      (9): Linear(\n",
       "        (_basisexpansion): BlocksBasisExpansion(\n",
       "          (block_expansion_('regular_[(0,)|(1,)|(2,)|(3,)]', 'irrep_2')): SingleBlockBasisExpansion()\n",
       "          (block_expansion_('regular_[(0,)|(1,)|(2,)|(3,)]', 'irrep_1')): SingleBlockBasisExpansion()\n",
       "          (block_expansion_('regular_[(0,)|(1,)|(2,)|(3,)]', 'irrep_0')): SingleBlockBasisExpansion()\n",
       "          (block_expansion_('regular_[(0,)|(1,)|(2,)|(3,)]', 'irrep_3')): SingleBlockBasisExpansion()\n",
       "        )\n",
       "      )\n",
       "    )\n",
       "  )\n",
       ")"
      ]
     },
     "execution_count": 3,
     "metadata": {},
     "output_type": "execute_result"
    }
   ],
   "source": [
    "cfg = payload['config']\n",
    "cls = hydra.utils.get_class(cfg._target_)\n",
    "\n",
    "workflow = cls(cfg)\n",
    "workflow: BaseWorkflow\n",
    "workflow.load_payload(payload, exclude_keys=None, include_keys=None)\n",
    "\n",
    "policy = workflow.model\n",
    "policy = policy.to(device)\n",
    "policy.eval()"
   ]
  },
  {
   "cell_type": "code",
   "execution_count": 4,
   "id": "7ac5c159-f187-4868-8bb8-0a518200d87b",
   "metadata": {},
   "outputs": [],
   "source": [
    "def eval(num_eps, start_seed=100000, num_disp = 100, num_rot=360, sample_act=False, vid_out=True):\n",
    "    pbar = tqdm(total=num_eps)\n",
    "    max_rewards = [0] * num_eps\n",
    "    for eps in range(num_eps):\n",
    "        env = MultiStepWrapper(PushTKeypointsEnv(render_action=False), n_obs_steps=2, n_action_steps=1, max_episode_steps=300)\n",
    "        env.seed(start_seed + eps)\n",
    "        \n",
    "        obs = env.reset()\n",
    "        d = False\n",
    "        B = 1\n",
    "        plots = list()\n",
    "        \n",
    "        while not d:\n",
    "            Do = obs.shape[-1] // 2 \n",
    "            obs = torch.from_numpy(obs[:, :Do].astype(np.float32).reshape(B,2,-1,2)).to(device) # 1x2x19x2\n",
    "            x_obs = (obs.reshape(1,38,2)[:,:,0] - 255.0)\n",
    "            y_obs = (obs.reshape(1,38,2)[:,:,1] - 255.0) * -1.0\n",
    "            new_d = torch.concatenate((x_obs.unsqueeze(-1), y_obs.unsqueeze(-1)), dim=-1).view(1, -1).view(1,2,19*2)\n",
    "            nobs = policy.normalizer['obs'].normalize(new_d)\n",
    "            \n",
    "            action_stats = policy.get_action_stats()\n",
    "            action_dist = torch.distributions.Uniform(\n",
    "                low=action_stats[\"min\"], high=action_stats[\"max\"]\n",
    "            )\n",
    "            actions = action_dist.sample((1, policy.pred_n_samples, 1)).to(\n",
    "                dtype=nobs.dtype\n",
    "            )\n",
    "            if True:\n",
    "                mag = torch.linspace(-1.0, 1.0, num_disp)\n",
    "                mag = mag.view(1, -1, 1).repeat(B, 1, num_rot).view(B, -1, 1, 1).to(device)\n",
    "                theta = torch.linspace(0, 2*np.pi, num_rot)\n",
    "                theta = theta.view(1, 1, -1).repeat(B, num_disp, 1).view(-1, 1).to(device)\n",
    "                actions = torch.concatenate((mag, theta.view(B, -1, 1, 1)), dim=-1)\n",
    "        \n",
    "                with torch.no_grad():\n",
    "                    logits = policy.energy_model(nobs, mag, theta)\n",
    "                action_probs = torch.softmax(logits, dim=-1)\n",
    "            else:\n",
    "                action_probs, actions = mcmc.iterative_dfo(\n",
    "                    policy.energy_model,\n",
    "                    nobs,\n",
    "                    actions,\n",
    "                    [action_stats['min'], action_stats['max']],\n",
    "                    harmonic_actions=policy.harmonic_actions,\n",
    "                    normalizer=policy.normalizer\n",
    "                )\n",
    "\n",
    "            if sample_act:\n",
    "                idxs = torch.multinomial(action_probs, num_samples=1, replacement=True)\n",
    "            else:\n",
    "                idxs = torch.argmax(action_probs, dim=-1).unsqueeze(-1)\n",
    "            actions = actions[torch.arange(B).unsqueeze(-1), idxs].squeeze(1)\n",
    "            if True:\n",
    "                action_probs = action_probs.view(B, num_disp, num_rot)\n",
    "                max_disp = torch.max(action_probs, dim=-1)[0]\n",
    "                E = action_probs[0,torch.argmax(max_disp, dim=1).item()].cpu().numpy()\n",
    "          \n",
    "            mag = policy.normalizer[\"action\"].unnormalize(actions)[:,:,0]\n",
    "            #theta = policy.normalizer[\"action\"].unnormalize(actions)[:,:,1]\n",
    "            theta = actions[:,:,1]\n",
    "            x = mag * torch.cos(theta)\n",
    "            y = mag * torch.sin(theta)\n",
    "            actions = torch.concat([x.view(B,1), y.view(B,1)], dim=1).unsqueeze(1)\n",
    "            \n",
    "            if vid_out:\n",
    "                img = env.render('human')\n",
    "                \n",
    "                f = plt.figure(figsize=(10,3))\n",
    "                ax1 = f.add_subplot(111)\n",
    "                ax2 = f.add_subplot(141, projection='polar')\n",
    "                ax1.imshow(img)\n",
    "                ax2.plot(np.linspace(0, 2*np.pi, E.shape[0]), E)\n",
    "                #ax2.set_rmax(np.max(E))\n",
    "                #ax2.set_rticks(np.round(np.linspace(np.min(E), np.max(E), 5), 3))\n",
    "                ax2.set_rticks(list())\n",
    "                ax2.grid(True)\n",
    "                \n",
    "                ax2.set_title(f\"R={mag.item():.3f}\", va=\"bottom\")\n",
    "                #plt.show()\n",
    "                io_buf = io.BytesIO()\n",
    "                f.savefig(io_buf, format='raw')\n",
    "                io_buf.seek(0)\n",
    "                img_arr = np.reshape(np.frombuffer(io_buf.getvalue(), dtype=np.uint8),\n",
    "                             newshape=(int(f.bbox.bounds[3]), int(f.bbox.bounds[2]), -1))\n",
    "                plots.append(img_arr)\n",
    "                io_buf.close()\n",
    "                plt.close() \n",
    "        \n",
    "            x_act = actions[:,:,0]\n",
    "            y_act = actions[:,:,1] * -1.0\n",
    "            new_act = torch.concatenate((x_act, y_act), dim=-1).view(B,1,2)\n",
    "            obs, r, d, _ = env.step(new_act.squeeze(0).cpu().numpy())\n",
    "            max_rewards[eps] = max(r, max_rewards[eps])\n",
    "        imageio.mimwrite(f'plots/lmax_3_noise/{eps}.gif', plots)\n",
    "        print(max_rewards[eps])\n",
    "        pbar.update(1)\n",
    "    return max_rewards"
   ]
  },
  {
   "cell_type": "code",
   "execution_count": 5,
   "id": "2716d18c-4a6b-4ce6-8f17-d9b40aff38a1",
   "metadata": {},
   "outputs": [
    {
     "name": "stderr",
     "output_type": "stream",
     "text": [
      "  0%|                                                                                                                                                                                 | 0/1 [00:00<?, ?it/s]ALSA lib confmisc.c:855:(parse_card) cannot find card '0'\n",
      "ALSA lib conf.c:5178:(_snd_config_evaluate) function snd_func_card_inum returned error: No such file or directory\n",
      "ALSA lib confmisc.c:422:(snd_func_concat) error evaluating strings\n",
      "ALSA lib conf.c:5178:(_snd_config_evaluate) function snd_func_concat returned error: No such file or directory\n",
      "ALSA lib confmisc.c:1334:(snd_func_refer) error evaluating name\n",
      "ALSA lib conf.c:5178:(_snd_config_evaluate) function snd_func_refer returned error: No such file or directory\n",
      "ALSA lib conf.c:5701:(snd_config_expand) Evaluate error: No such file or directory\n",
      "ALSA lib pcm.c:2664:(snd_pcm_open_noupdate) Unknown PCM default\n",
      "/home/ckohler_theaiinstitute_com/.local/lib/python3.10/site-packages/shapely/constructive.py:180: RuntimeWarning:\n",
      "\n",
      "divide by zero encountered in buffer\n",
      "\n",
      "100%|████████████████████████████████████████████████████████████████████████████████████████████████████████████████████████████████████████████████████████████████████████| 1/1 [02:07<00:00, 127.42s/it]"
     ]
    },
    {
     "name": "stdout",
     "output_type": "stream",
     "text": [
      "0.9942780342090489\n"
     ]
    },
    {
     "name": "stderr",
     "output_type": "stream",
     "text": [
      "\n"
     ]
    }
   ],
   "source": [
    "max_rewards = eval(num_eps=1, start_seed=100000, num_disp=500)"
   ]
  },
  {
   "cell_type": "code",
   "execution_count": 6,
   "id": "d68fed61-7465-4379-8232-b1a0e9eb4ab7",
   "metadata": {},
   "outputs": [
    {
     "data": {
      "text/plain": [
       "0.9942780342090489"
      ]
     },
     "execution_count": 6,
     "metadata": {},
     "output_type": "execute_result"
    }
   ],
   "source": [
    "np.mean(max_rewards)"
   ]
  },
  {
   "cell_type": "code",
   "execution_count": 7,
   "id": "d6a791e6-398a-45f1-935b-c065616caca4",
   "metadata": {},
   "outputs": [
    {
     "data": {
      "text/plain": [
       "[0.9942780342090489]"
      ]
     },
     "execution_count": 7,
     "metadata": {},
     "output_type": "execute_result"
    }
   ],
   "source": [
    "max_rewards"
   ]
  },
  {
   "cell_type": "code",
   "execution_count": null,
   "id": "9a354208-6eb8-49d1-b97b-dcc689fe572f",
   "metadata": {},
   "outputs": [],
   "source": []
  }
 ],
 "metadata": {
  "kernelspec": {
   "display_name": "Python 3 (ipykernel)",
   "language": "python",
   "name": "python3"
  },
  "language_info": {
   "codemirror_mode": {
    "name": "ipython",
    "version": 3
   },
   "file_extension": ".py",
   "mimetype": "text/x-python",
   "name": "python",
   "nbconvert_exporter": "python",
   "pygments_lexer": "ipython3",
   "version": "3.10.12"
  }
 },
 "nbformat": 4,
 "nbformat_minor": 5
}
