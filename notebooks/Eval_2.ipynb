{
 "cells": [
  {
   "cell_type": "code",
   "execution_count": 1,
   "id": "3e71960d-4b2a-4cbc-8c19-1743219fb827",
   "metadata": {},
   "outputs": [
    {
     "name": "stdout",
     "output_type": "stream",
     "text": [
      "pygame 2.5.2 (SDL 2.28.2, Python 3.10.12)\n",
      "Hello from the pygame community. https://www.pygame.org/contribute.html\n"
     ]
    }
   ],
   "source": [
    "import os, sys\n",
    "sys.path.append('..')\n",
    "\n",
    "import io\n",
    "import torch\n",
    "import numpy as np\n",
    "import numpy.random as npr\n",
    "import hydra\n",
    "import dill\n",
    "from tqdm import tqdm\n",
    "\n",
    "import plotly.io as pio\n",
    "pio.renderers.default = 'jupyterlab'\n",
    "from scipy.interpolate import griddata\n",
    "import plotly.graph_objs as go\n",
    "import matplotlib.pyplot as plt\n",
    "import imageio\n",
    "\n",
    "from irrep_actions.gym_util.multistep_wrapper import MultiStepWrapper\n",
    "from irrep_actions.env.pusht.pusht_keypoints_env import PushTKeypointsEnv\n",
    "from irrep_actions.env.pusht.pusht_image_env import PushTImageEnv\n",
    "from irrep_actions.workflow.base_workflow import BaseWorkflow\n",
    "from irrep_actions.utils import mcmc"
   ]
  },
  {
   "cell_type": "code",
   "execution_count": 2,
   "id": "b1afb605-11b3-4441-ab39-d46b78fcae7b",
   "metadata": {},
   "outputs": [],
   "source": [
    "#checkpoint = '../data/outputs/2024.02.06/23.18.33_train_so2_harmonic_implicit_policy_pusht_lowdim/checkpoints/epoch=0300-test_mean_score=1.000.ckpt'\n",
    "checkpoint = '../data/outputs/2024.02.28/17.26.35_train_circular_implicit_image_policy_pusht_image/checkpoints/epoch=0050-test_mean_score=0.907.ckpt'\n",
    "\n",
    "payload = torch.load(open(checkpoint, 'rb'), pickle_module=dill)\n",
    "device = torch.device('cuda:1')"
   ]
  },
  {
   "cell_type": "code",
   "execution_count": 3,
   "id": "75e13509-9d8e-4704-b6ca-b113f90405b2",
   "metadata": {},
   "outputs": [
    {
     "data": {
      "text/plain": [
       "CircularImplicitPolicy(\n",
       "  (normalizer): LinearNormalizer(\n",
       "    (params_dict): ParameterDict(\n",
       "        (obs): Object of type: ParameterDict\n",
       "        (action): Object of type: ParameterDict\n",
       "        (image): Object of type: ParameterDict\n",
       "      (obs): ParameterDict(\n",
       "          (offset): Parameter containing: [torch.cuda.FloatTensor of size 96 (cuda:1)]\n",
       "          (scale): Parameter containing: [torch.cuda.FloatTensor of size 96 (cuda:1)]\n",
       "          (input_stats): Object of type: ParameterDict\n",
       "        (input_stats): ParameterDict(\n",
       "            (max): Parameter containing: [torch.cuda.FloatTensor of size 96 (cuda:1)]\n",
       "            (mean): Parameter containing: [torch.cuda.FloatTensor of size 96 (cuda:1)]\n",
       "            (min): Parameter containing: [torch.cuda.FloatTensor of size 96 (cuda:1)]\n",
       "            (std): Parameter containing: [torch.cuda.FloatTensor of size 96 (cuda:1)]\n",
       "        )\n",
       "      )\n",
       "      (action): ParameterDict(\n",
       "          (offset): Parameter containing: [torch.cuda.FloatTensor of size 2 (cuda:1)]\n",
       "          (scale): Parameter containing: [torch.cuda.FloatTensor of size 2 (cuda:1)]\n",
       "          (input_stats): Object of type: ParameterDict\n",
       "        (input_stats): ParameterDict(\n",
       "            (max): Parameter containing: [torch.cuda.FloatTensor of size 2 (cuda:1)]\n",
       "            (mean): Parameter containing: [torch.cuda.FloatTensor of size 2 (cuda:1)]\n",
       "            (min): Parameter containing: [torch.cuda.FloatTensor of size 2 (cuda:1)]\n",
       "            (std): Parameter containing: [torch.cuda.FloatTensor of size 2 (cuda:1)]\n",
       "        )\n",
       "      )\n",
       "      (image): ParameterDict(\n",
       "          (offset): Parameter containing: [torch.cuda.FloatTensor of size 1 (cuda:1)]\n",
       "          (scale): Parameter containing: [torch.cuda.FloatTensor of size 1 (cuda:1)]\n",
       "          (input_stats): Object of type: ParameterDict\n",
       "        (input_stats): ParameterDict(\n",
       "            (max): Parameter containing: [torch.cuda.FloatTensor of size 1 (cuda:1)]\n",
       "            (mean): Parameter containing: [torch.cuda.FloatTensor of size 1 (cuda:1)]\n",
       "            (min): Parameter containing: [torch.cuda.FloatTensor of size 1 (cuda:1)]\n",
       "            (std): Parameter containing: [torch.cuda.FloatTensor of size 1 (cuda:1)]\n",
       "        )\n",
       "      )\n",
       "    )\n",
       "  )\n",
       "  (obs_encoder): CyclicImageEncoder(\n",
       "    (conv): Sequential(\n",
       "      (0): R2Conv([C8_on_R2[(None, 8)]: {irrep_0 (x3)}(3)], [C8_on_R2[(None, 8)]: {regular (x32)}(256)], kernel_size=5, stride=1)\n",
       "      (1): ReLU(inplace=True, type=[C8_on_R2[(None, 8)]: {regular (x32)}(256)])\n",
       "      (2): CyclicResNetBlock(\n",
       "        (conv1): SequentialModule(\n",
       "          (0): R2Conv([C8_on_R2[(None, 8)]: {regular (x32)}(256)], [C8_on_R2[(None, 8)]: {regular (x32)}(256)], kernel_size=3, stride=1, padding=1)\n",
       "          (1): ReLU(inplace=True, type=[C8_on_R2[(None, 8)]: {regular (x32)}(256)])\n",
       "        )\n",
       "        (act): ReLU(inplace=True, type=[C8_on_R2[(None, 8)]: {regular (x32)}(256)])\n",
       "        (conv2): R2Conv([C8_on_R2[(None, 8)]: {regular (x32)}(256)], [C8_on_R2[(None, 8)]: {regular (x32)}(256)], kernel_size=3, stride=1, padding=1)\n",
       "      )\n",
       "      (3): CyclicResNetBlock(\n",
       "        (conv1): SequentialModule(\n",
       "          (0): R2Conv([C8_on_R2[(None, 8)]: {regular (x32)}(256)], [C8_on_R2[(None, 8)]: {regular (x32)}(256)], kernel_size=3, stride=1, padding=1)\n",
       "          (1): ReLU(inplace=True, type=[C8_on_R2[(None, 8)]: {regular (x32)}(256)])\n",
       "        )\n",
       "        (act): ReLU(inplace=True, type=[C8_on_R2[(None, 8)]: {regular (x32)}(256)])\n",
       "        (conv2): R2Conv([C8_on_R2[(None, 8)]: {regular (x32)}(256)], [C8_on_R2[(None, 8)]: {regular (x32)}(256)], kernel_size=3, stride=1, padding=1)\n",
       "      )\n",
       "      (4): PointwiseMaxPool2D()\n",
       "      (5): CyclicResNetBlock(\n",
       "        (conv1): SequentialModule(\n",
       "          (0): R2Conv([C8_on_R2[(None, 8)]: {regular (x32)}(256)], [C8_on_R2[(None, 8)]: {regular (x64)}(512)], kernel_size=3, stride=1, padding=1)\n",
       "          (1): ReLU(inplace=True, type=[C8_on_R2[(None, 8)]: {regular (x64)}(512)])\n",
       "        )\n",
       "        (act): ReLU(inplace=True, type=[C8_on_R2[(None, 8)]: {regular (x64)}(512)])\n",
       "        (conv2): R2Conv([C8_on_R2[(None, 8)]: {regular (x64)}(512)], [C8_on_R2[(None, 8)]: {regular (x64)}(512)], kernel_size=3, stride=1, padding=1)\n",
       "        (upscale): R2Conv([C8_on_R2[(None, 8)]: {regular (x32)}(256)], [C8_on_R2[(None, 8)]: {regular (x64)}(512)], kernel_size=1, stride=1, bias=False)\n",
       "      )\n",
       "      (6): CyclicResNetBlock(\n",
       "        (conv1): SequentialModule(\n",
       "          (0): R2Conv([C8_on_R2[(None, 8)]: {regular (x64)}(512)], [C8_on_R2[(None, 8)]: {regular (x64)}(512)], kernel_size=3, stride=1, padding=1)\n",
       "          (1): ReLU(inplace=True, type=[C8_on_R2[(None, 8)]: {regular (x64)}(512)])\n",
       "        )\n",
       "        (act): ReLU(inplace=True, type=[C8_on_R2[(None, 8)]: {regular (x64)}(512)])\n",
       "        (conv2): R2Conv([C8_on_R2[(None, 8)]: {regular (x64)}(512)], [C8_on_R2[(None, 8)]: {regular (x64)}(512)], kernel_size=3, stride=1, padding=1)\n",
       "      )\n",
       "      (7): PointwiseMaxPool2D()\n",
       "      (8): CyclicResNetBlock(\n",
       "        (conv1): SequentialModule(\n",
       "          (0): R2Conv([C8_on_R2[(None, 8)]: {regular (x64)}(512)], [C8_on_R2[(None, 8)]: {regular (x128)}(1024)], kernel_size=3, stride=1, padding=1)\n",
       "          (1): ReLU(inplace=True, type=[C8_on_R2[(None, 8)]: {regular (x128)}(1024)])\n",
       "        )\n",
       "        (act): ReLU(inplace=True, type=[C8_on_R2[(None, 8)]: {regular (x128)}(1024)])\n",
       "        (conv2): R2Conv([C8_on_R2[(None, 8)]: {regular (x128)}(1024)], [C8_on_R2[(None, 8)]: {regular (x128)}(1024)], kernel_size=3, stride=1, padding=1)\n",
       "        (upscale): R2Conv([C8_on_R2[(None, 8)]: {regular (x64)}(512)], [C8_on_R2[(None, 8)]: {regular (x128)}(1024)], kernel_size=1, stride=1, bias=False)\n",
       "      )\n",
       "      (9): CyclicResNetBlock(\n",
       "        (conv1): SequentialModule(\n",
       "          (0): R2Conv([C8_on_R2[(None, 8)]: {regular (x128)}(1024)], [C8_on_R2[(None, 8)]: {regular (x128)}(1024)], kernel_size=3, stride=1, padding=1)\n",
       "          (1): ReLU(inplace=True, type=[C8_on_R2[(None, 8)]: {regular (x128)}(1024)])\n",
       "        )\n",
       "        (act): ReLU(inplace=True, type=[C8_on_R2[(None, 8)]: {regular (x128)}(1024)])\n",
       "        (conv2): R2Conv([C8_on_R2[(None, 8)]: {regular (x128)}(1024)], [C8_on_R2[(None, 8)]: {regular (x128)}(1024)], kernel_size=3, stride=1, padding=1)\n",
       "      )\n",
       "      (10): PointwiseMaxPool2D()\n",
       "      (11): CyclicResNetBlock(\n",
       "        (conv1): SequentialModule(\n",
       "          (0): R2Conv([C8_on_R2[(None, 8)]: {regular (x128)}(1024)], [C8_on_R2[(None, 8)]: {regular (x256)}(2048)], kernel_size=3, stride=1, padding=1)\n",
       "          (1): ReLU(inplace=True, type=[C8_on_R2[(None, 8)]: {regular (x256)}(2048)])\n",
       "        )\n",
       "        (act): ReLU(inplace=True, type=[C8_on_R2[(None, 8)]: {regular (x256)}(2048)])\n",
       "        (conv2): R2Conv([C8_on_R2[(None, 8)]: {regular (x256)}(2048)], [C8_on_R2[(None, 8)]: {regular (x256)}(2048)], kernel_size=3, stride=1, padding=1)\n",
       "        (upscale): R2Conv([C8_on_R2[(None, 8)]: {regular (x128)}(1024)], [C8_on_R2[(None, 8)]: {regular (x256)}(2048)], kernel_size=1, stride=1, bias=False)\n",
       "      )\n",
       "      (12): CyclicResNetBlock(\n",
       "        (conv1): SequentialModule(\n",
       "          (0): R2Conv([C8_on_R2[(None, 8)]: {regular (x256)}(2048)], [C8_on_R2[(None, 8)]: {regular (x256)}(2048)], kernel_size=3, stride=1, padding=1)\n",
       "          (1): ReLU(inplace=True, type=[C8_on_R2[(None, 8)]: {regular (x256)}(2048)])\n",
       "        )\n",
       "        (act): ReLU(inplace=True, type=[C8_on_R2[(None, 8)]: {regular (x256)}(2048)])\n",
       "        (conv2): R2Conv([C8_on_R2[(None, 8)]: {regular (x256)}(2048)], [C8_on_R2[(None, 8)]: {regular (x256)}(2048)], kernel_size=3, stride=1, padding=1)\n",
       "      )\n",
       "      (13): PointwiseMaxPool2D()\n",
       "      (14): R2Conv([C8_on_R2[(None, 8)]: {regular (x256)}(2048)], [C8_on_R2[(None, 8)]: {regular (x256)}(2048)], kernel_size=5, stride=1)\n",
       "      (15): ReLU(inplace=True, type=[C8_on_R2[(None, 8)]: {regular (x256)}(2048)])\n",
       "    )\n",
       "    (fourier): Fourier()\n",
       "  )\n",
       "  (energy_head): SO2HarmonicEnergyMLP(\n",
       "    (energy_mlp): SequentialModule(\n",
       "      (0): Linear(\n",
       "        (_basisexpansion): BlocksBasisExpansion(\n",
       "          (block_expansion_('irrep_0', 'regular_[(0,)|(1,)|(2,)|(3,)]')): SingleBlockBasisExpansion()\n",
       "          (block_expansion_('regular_[(0,)|(1,)|(2,)|(3,)]', 'regular_[(0,)|(1,)|(2,)|(3,)]')): SingleBlockBasisExpansion()\n",
       "        )\n",
       "      )\n",
       "      (1): FourierPointwise()\n",
       "      (2): FieldDropout()\n",
       "      (3): Linear(\n",
       "        (_basisexpansion): BlocksBasisExpansion(\n",
       "          (block_expansion_('regular_[(0,)|(1,)|(2,)|(3,)]', 'regular_[(0,)|(1,)|(2,)|(3,)]')): SingleBlockBasisExpansion()\n",
       "        )\n",
       "      )\n",
       "      (4): FourierPointwise()\n",
       "      (5): FieldDropout()\n",
       "      (6): Linear(\n",
       "        (_basisexpansion): BlocksBasisExpansion(\n",
       "          (block_expansion_('regular_[(0,)|(1,)|(2,)|(3,)]', 'regular_[(0,)|(1,)|(2,)|(3,)]')): SingleBlockBasisExpansion()\n",
       "        )\n",
       "      )\n",
       "      (7): FourierPointwise()\n",
       "      (8): FieldDropout()\n",
       "      (9): Linear(\n",
       "        (_basisexpansion): BlocksBasisExpansion(\n",
       "          (block_expansion_('regular_[(0,)|(1,)|(2,)|(3,)]', 'irrep_1')): SingleBlockBasisExpansion()\n",
       "          (block_expansion_('regular_[(0,)|(1,)|(2,)|(3,)]', 'irrep_3')): SingleBlockBasisExpansion()\n",
       "          (block_expansion_('regular_[(0,)|(1,)|(2,)|(3,)]', 'irrep_0')): SingleBlockBasisExpansion()\n",
       "          (block_expansion_('regular_[(0,)|(1,)|(2,)|(3,)]', 'irrep_2')): SingleBlockBasisExpansion()\n",
       "        )\n",
       "      )\n",
       "    )\n",
       "  )\n",
       ")"
      ]
     },
     "execution_count": 3,
     "metadata": {},
     "output_type": "execute_result"
    }
   ],
   "source": [
    "cfg = payload['config']\n",
    "cls = hydra.utils.get_class(cfg._target_)\n",
    "\n",
    "workflow = cls(cfg)\n",
    "workflow: BaseWorkflow\n",
    "workflow.load_payload(payload, exclude_keys=None, include_keys=None)\n",
    "\n",
    "policy = workflow.model\n",
    "policy = policy.to(device)\n",
    "policy.eval()"
   ]
  },
  {
   "cell_type": "code",
   "execution_count": 34,
   "id": "7ac5c159-f187-4868-8bb8-0a518200d87b",
   "metadata": {},
   "outputs": [],
   "source": [
    "def eval(num_eps, start_seed=100000, num_disp = 100, num_rot=360, sample_act=False, temp=1.0, vid_out=True):\n",
    "    pbar = tqdm(total=num_eps)\n",
    "    max_rewards = [0] * num_eps\n",
    "    for eps in range(num_eps):\n",
    "        env = MultiStepWrapper(\n",
    "            PushTImageEnv(), \n",
    "            n_obs_steps=2, \n",
    "            n_action_steps=1,\n",
    "            max_episode_steps=500\n",
    "        )\n",
    "        env.seed(start_seed + eps)\n",
    "        \n",
    "        obs = env.reset()\n",
    "        d = False\n",
    "        B = 1\n",
    "        plots = list()\n",
    "        import time\n",
    "        \n",
    "        while not d:\n",
    "            t0 = time.time()\n",
    "            #Do = obs.shape[-1] // 2 \n",
    "            #obs = torch.from_numpy(obs[:, :Do].astype(np.float32).reshape(B,2,-1,2)).to(device) # 1x2x19x2\n",
    "            #x_obs = (obs.reshape(1,38,2)[:,:,0] - 255.0)\n",
    "            #y_obs = (obs.reshape(1,38,2)[:,:,1] - 255.0) * -1.0\n",
    "            #new_d = torch.concatenate((x_obs.unsqueeze(-1), y_obs.unsqueeze(-1)), dim=-1).view(1, -1).view(1,2,19*2)\n",
    "            obs = obs['image'][:,:,6:-6, 6:-6]\n",
    "            nobs = policy.normalizer['obs'].normalize(obs).view(1,2,3,84,84)\n",
    "            \n",
    "            action_stats = policy.get_action_stats()\n",
    "            action_dist = torch.distributions.Uniform(\n",
    "                low=action_stats[\"min\"], high=action_stats[\"max\"]\n",
    "            )\n",
    "            mag = torch.linspace(-1.0, 1.0, num_disp)\n",
    "            mag = mag.view(1, -1).repeat(B, 1).view(B, -1, 1, 1).to(device)\n",
    "            theta = torch.linspace(0, 2*np.pi, num_rot).to(device)\n",
    "    \n",
    "            with torch.no_grad():\n",
    "                logits = policy.get_energy_ball(nobs, mag).view(1, -1)\n",
    "            action_probs = torch.softmax(logits/temp, dim=-1).view(1, num_disp, num_rot)\n",
    "\n",
    "            if sample_act:\n",
    "                flat_indexes = torch.multinomial(action_probs.flatten(start_dim=-2), num_samples=1, replacement=True)\n",
    "            else:\n",
    "                flat_indexes = action_probs.flatten(start_dim=-2).argmax(1)\n",
    "            idx = [divmod(idx.item(), action_probs.shape[-1]) for idx in flat_indexes][0]\n",
    "                \n",
    "            #actions = actions[torch.arange(B).unsqueeze(-1), idxs].squeeze(1)\n",
    "            actions = torch.tensor([mag[0,idx[0],0,0], theta[idx[1]]])\n",
    "            #print(time.time() - t0)\n",
    "            if True:\n",
    "                #action            B = obs['image'].shape[0]_probs = action_probs.view(B, num_disp, num_rot)\n",
    "                max_disp = torch.max(action_probs, dim=-1)[0]\n",
    "                E = action_probs[0,torch.argmax(max_disp, dim=1).item()].cpu().numpy()\n",
    "          \n",
    "            mag = policy.normalizer[\"action\"].unnormalize(actions)[0]\n",
    "            #theta = policy.normalizer[\"action\"].unnormalize(actions)[:,:,1]\n",
    "            theta = actions[1]\n",
    "            x = mag * torch.cos(theta)\n",
    "            y = mag * torch.sin(theta)\n",
    "            actions = torch.concat([x.view(B,1), y.view(B,1)], dim=1).unsqueeze(1)\n",
    "            \n",
    "            if vid_out:\n",
    "                img = env.render('rgb_array')\n",
    "                \n",
    "                f = plt.figure(figsize=(10,3))\n",
    "                ax1 = f.add_subplot(111)\n",
    "                ax2 = f.add_subplot(141, projection='polar')\n",
    "                ax1.imshow(img[6:-6,6:-6,:])\n",
    "                ax2.plot(np.linspace(0, 2*np.pi, E.shape[0]), E)\n",
    "                #ax2.set_rmax(np.max(E))\n",
    "                #ax2.set_rticks(np.round(np.linspace(np.min(E), np.max(E), 5), 3))\n",
    "                ax2.set_rticks(list())\n",
    "                ax2.grid(True)\n",
    "                \n",
    "                ax2.set_title(f\"R={mag.item():.3f}\", va=\"bottom\")\n",
    "                #plt.show()\n",
    "                io_buf = io.BytesIO()\n",
    "                f.savefig(io_buf, format='raw')\n",
    "                io_buf.seek(0)\n",
    "                img_arr = np.reshape(np.frombuffer(io_buf.getvalue(), dtype=np.uint8),\n",
    "                             newshape=(int(f.bbox.bounds[3]), int(f.bbox.bounds[2]), -1))\n",
    "                plots.append(img_arr)\n",
    "                io_buf.close()\n",
    "                plt.close() \n",
    "        \n",
    "            x_act = actions[:,:,0]\n",
    "            y_act = actions[:,:,1] * -1.0\n",
    "            new_act = torch.concatenate((x_act, y_act), dim=-1).view(B,1,2)\n",
    "            obs, r, d, _ = env.step(new_act.squeeze(0).cpu().numpy())\n",
    "            max_rewards[eps] = max(r, max_rewards[eps])\n",
    "        imageio.mimwrite(f'plots/lmax_3/{eps}.gif', plots)\n",
    "        print(max_rewards[eps])\n",
    "        pbar.update(1)\n",
    "    return max_rewards"
   ]
  },
  {
   "cell_type": "code",
   "execution_count": 37,
   "id": "2716d18c-4a6b-4ce6-8f17-d9b40aff38a1",
   "metadata": {},
   "outputs": [
    {
     "name": "stderr",
     "output_type": "stream",
     "text": [
      "\n",
      "  0%|                                                                                                                                                                                | 0/10 [00:00<?, ?it/s]\u001b[A\n",
      " 10%|████████████████▊                                                                                                                                                       | 1/10 [00:19<02:53, 19.27s/it]\u001b[A"
     ]
    },
    {
     "name": "stdout",
     "output_type": "stream",
     "text": [
      "1.0\n"
     ]
    },
    {
     "name": "stderr",
     "output_type": "stream",
     "text": [
      "\n",
      " 20%|█████████████████████████████████▌                                                                                                                                      | 2/10 [00:27<01:42, 12.82s/it]\u001b[A"
     ]
    },
    {
     "name": "stdout",
     "output_type": "stream",
     "text": [
      "1.0\n"
     ]
    },
    {
     "name": "stderr",
     "output_type": "stream",
     "text": [
      "\n",
      " 30%|██████████████████████████████████████████████████▍                                                                                                                     | 3/10 [00:56<02:20, 20.12s/it]\u001b[A"
     ]
    },
    {
     "name": "stdout",
     "output_type": "stream",
     "text": [
      "1.0\n"
     ]
    },
    {
     "name": "stderr",
     "output_type": "stream",
     "text": [
      "\n",
      " 40%|███████████████████████████████████████████████████████████████████▏                                                                                                    | 4/10 [02:19<04:28, 44.81s/it]\u001b[A"
     ]
    },
    {
     "name": "stdout",
     "output_type": "stream",
     "text": [
      "0.09247122155782879\n"
     ]
    },
    {
     "name": "stderr",
     "output_type": "stream",
     "text": [
      "\n",
      " 50%|████████████████████████████████████████████████████████████████████████████████████                                                                                    | 5/10 [02:43<03:07, 37.53s/it]\u001b[A"
     ]
    },
    {
     "name": "stdout",
     "output_type": "stream",
     "text": [
      "1.0\n"
     ]
    },
    {
     "name": "stderr",
     "output_type": "stream",
     "text": [
      "\n",
      " 60%|████████████████████████████████████████████████████████████████████████████████████████████████████▊                                                                   | 6/10 [03:09<02:13, 33.48s/it]\u001b[A"
     ]
    },
    {
     "name": "stdout",
     "output_type": "stream",
     "text": [
      "1.0\n"
     ]
    },
    {
     "name": "stderr",
     "output_type": "stream",
     "text": [
      "\n",
      " 70%|█████████████████████████████████████████████████████████████████████████████████████████████████████████████████████▌                                                  | 7/10 [04:17<02:14, 44.80s/it]\u001b[A"
     ]
    },
    {
     "name": "stdout",
     "output_type": "stream",
     "text": [
      "1.0\n"
     ]
    },
    {
     "name": "stderr",
     "output_type": "stream",
     "text": [
      "\n",
      " 80%|██████████████████████████████████████████████████████████████████████████████████████████████████████████████████████████████████████▍                                 | 8/10 [04:44<01:18, 39.15s/it]\u001b[A"
     ]
    },
    {
     "name": "stdout",
     "output_type": "stream",
     "text": [
      "1.0\n"
     ]
    },
    {
     "name": "stderr",
     "output_type": "stream",
     "text": [
      "\n",
      " 90%|███████████████████████████████████████████████████████████████████████████████████████████████████████████████████████████████████████████████████████▏                | 9/10 [05:03<00:32, 32.75s/it]\u001b[A"
     ]
    },
    {
     "name": "stdout",
     "output_type": "stream",
     "text": [
      "1.0\n"
     ]
    },
    {
     "name": "stderr",
     "output_type": "stream",
     "text": [
      "\n",
      "100%|███████████████████████████████████████████████████████████████████████████████████████████████████████████████████████████████████████████████████████████████████████| 10/10 [05:35<00:00, 33.53s/it]\u001b[A"
     ]
    },
    {
     "name": "stdout",
     "output_type": "stream",
     "text": [
      "1.0\n"
     ]
    },
    {
     "name": "stderr",
     "output_type": "stream",
     "text": [
      "\n"
     ]
    }
   ],
   "source": [
    "max_rewards = eval(num_eps=10, start_seed=100000, num_disp=500, num_rot=360, sample_act=True, temp=1.0)"
   ]
  },
  {
   "cell_type": "code",
   "execution_count": null,
   "id": "d6a791e6-398a-45f1-935b-c065616caca4",
   "metadata": {},
   "outputs": [],
   "source": [
    "np.mean(max_rewards)"
   ]
  },
  {
   "cell_type": "code",
   "execution_count": null,
   "id": "3b23a3f5-f716-4667-9ea0-314c6db6548c",
   "metadata": {},
   "outputs": [],
   "source": [
    "max_rewards"
   ]
  },
  {
   "cell_type": "code",
   "execution_count": null,
   "id": "6b06d2bc-58d1-4408-9119-698d48d71a51",
   "metadata": {},
   "outputs": [],
   "source": []
  },
  {
   "cell_type": "code",
   "execution_count": null,
   "id": "0c4b1fbe-385f-4000-95bb-58d85aa7fc6d",
   "metadata": {},
   "outputs": [],
   "source": []
  }
 ],
 "metadata": {
  "kernelspec": {
   "display_name": "Python 3 (ipykernel)",
   "language": "python",
   "name": "python3"
  },
  "language_info": {
   "codemirror_mode": {
    "name": "ipython",
    "version": 3
   },
   "file_extension": ".py",
   "mimetype": "text/x-python",
   "name": "python",
   "nbconvert_exporter": "python",
   "pygments_lexer": "ipython3",
   "version": "3.10.12"
  }
 },
 "nbformat": 4,
 "nbformat_minor": 5
}
