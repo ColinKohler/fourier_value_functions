{
 "cells": [
  {
   "cell_type": "code",
   "execution_count": 168,
   "id": "3e71960d-4b2a-4cbc-8c19-1743219fb827",
   "metadata": {},
   "outputs": [],
   "source": [
    "import os, sys\n",
    "sys.path.append('..')\n",
    "\n",
    "import io\n",
    "import torch\n",
    "import numpy as np\n",
    "import numpy.random as npr\n",
    "import hydra\n",
    "import dill\n",
    "\n",
    "import plotly as py\n",
    "import plotly.io as pio\n",
    "pio.renderers.default = 'jupyterlab'\n",
    "from scipy.interpolate import griddata\n",
    "import plotly.graph_objs as go\n",
    "import matplotlib.pyplot as plt\n",
    "import imageio\n",
    "\n",
    "from irrep_actions.gym_util.multistep_wrapper import MultiStepWrapper\n",
    "from irrep_actions.env.pusht.pusht_keypoints_env import PushTKeypointsEnv\n",
    "from irrep_actions.workflow.base_workflow import BaseWorkflow\n",
    "from irrep_actions.utils import mcmc"
   ]
  },
  {
   "cell_type": "code",
   "execution_count": 169,
   "id": "b1afb605-11b3-4441-ab39-d46b78fcae7b",
   "metadata": {},
   "outputs": [],
   "source": [
    "# CH SO2 Lmax 5\n",
    "# checkpoint = '../data/outputs/2024.01.30/16.43.31_train_so2_harmonic_implicit_policy_pusht_lowdim/checkpoints/latest.ckpt'\n",
    "\n",
    "# CH SO2 Lmax 3\n",
    "#checkpoint = '../data/outputs/2024.01.30/06.16.01_train_so2_harmonic_implicit_policy_pusht_lowdim/checkpoints/epoch=0400-test_mean_score=0.975.ckpt'\n",
    "\n",
    "# CH skip\n",
    "# checkpoint = '../data/outputs/2024.01.30/19.08.21_train_so2_harmonic_implicit_policy_pusht_lowdim/checkpoints/latest.ckpt'\n",
    "\n",
    "checkpoint = '../data/outputs/2024.02.05/16.51.30_train_so2_harmonic_implicit_policy_pusht_lowdim/checkpoints/latest.ckpt'\n",
    "\n",
    "payload = torch.load(open(checkpoint, 'rb'), pickle_module=dill)\n",
    "device = torch.device('cuda:0')"
   ]
  },
  {
   "cell_type": "code",
   "execution_count": 170,
   "id": "75e13509-9d8e-4704-b6ca-b113f90405b2",
   "metadata": {},
   "outputs": [
    {
     "data": {
      "text/plain": [
       "ImplicitPolicy(\n",
       "  (normalizer): LinearNormalizer(\n",
       "    (params_dict): ParameterDict(\n",
       "        (obs): Object of type: ParameterDict\n",
       "        (action): Object of type: ParameterDict\n",
       "      (obs): ParameterDict(\n",
       "          (offset): Parameter containing: [torch.cuda.FloatTensor of size 38 (cuda:0)]\n",
       "          (scale): Parameter containing: [torch.cuda.FloatTensor of size 38 (cuda:0)]\n",
       "          (input_stats): Object of type: ParameterDict\n",
       "        (input_stats): ParameterDict(\n",
       "            (max): Parameter containing: [torch.cuda.FloatTensor of size 38 (cuda:0)]\n",
       "            (mean): Parameter containing: [torch.cuda.FloatTensor of size 38 (cuda:0)]\n",
       "            (min): Parameter containing: [torch.cuda.FloatTensor of size 38 (cuda:0)]\n",
       "            (std): Parameter containing: [torch.cuda.FloatTensor of size 38 (cuda:0)]\n",
       "        )\n",
       "      )\n",
       "      (action): ParameterDict(\n",
       "          (offset): Parameter containing: [torch.cuda.FloatTensor of size 2 (cuda:0)]\n",
       "          (scale): Parameter containing: [torch.cuda.FloatTensor of size 2 (cuda:0)]\n",
       "          (input_stats): Object of type: ParameterDict\n",
       "        (input_stats): ParameterDict(\n",
       "            (max): Parameter containing: [torch.cuda.FloatTensor of size 2 (cuda:0)]\n",
       "            (mean): Parameter containing: [torch.cuda.FloatTensor of size 2 (cuda:0)]\n",
       "            (min): Parameter containing: [torch.cuda.FloatTensor of size 2 (cuda:0)]\n",
       "            (std): Parameter containing: [torch.cuda.FloatTensor of size 2 (cuda:0)]\n",
       "        )\n",
       "      )\n",
       "    )\n",
       "  )\n",
       "  (energy_model): SO2HarmonicEnergyMLP(\n",
       "    (energy_mlp): SequentialModule(\n",
       "      (0): Linear(\n",
       "        (_basisexpansion): BlocksBasisExpansion(\n",
       "          (block_expansion_('irrep_0', 'regular_[(0,)|(1,)|(2,)|(3,)]')): SingleBlockBasisExpansion()\n",
       "          (block_expansion_('irrep_1', 'regular_[(0,)|(1,)|(2,)|(3,)]')): SingleBlockBasisExpansion()\n",
       "        )\n",
       "      )\n",
       "      (1): FourierPointwise()\n",
       "      (2): FieldDropout()\n",
       "      (3): Linear(\n",
       "        (_basisexpansion): BlocksBasisExpansion(\n",
       "          (block_expansion_('regular_[(0,)|(1,)|(2,)|(3,)]', 'regular_[(0,)|(1,)|(2,)|(3,)]')): SingleBlockBasisExpansion()\n",
       "        )\n",
       "      )\n",
       "      (4): FourierPointwise()\n",
       "      (5): FieldDropout()\n",
       "      (6): Linear(\n",
       "        (_basisexpansion): BlocksBasisExpansion(\n",
       "          (block_expansion_('regular_[(0,)|(1,)|(2,)|(3,)]', 'regular_[(0,)|(1,)|(2,)|(3,)]')): SingleBlockBasisExpansion()\n",
       "        )\n",
       "      )\n",
       "      (7): FourierPointwise()\n",
       "      (8): FieldDropout()\n",
       "      (9): Linear(\n",
       "        (_basisexpansion): BlocksBasisExpansion(\n",
       "          (block_expansion_('regular_[(0,)|(1,)|(2,)|(3,)]', 'irrep_1')): SingleBlockBasisExpansion()\n",
       "          (block_expansion_('regular_[(0,)|(1,)|(2,)|(3,)]', 'irrep_0')): SingleBlockBasisExpansion()\n",
       "          (block_expansion_('regular_[(0,)|(1,)|(2,)|(3,)]', 'irrep_3')): SingleBlockBasisExpansion()\n",
       "          (block_expansion_('regular_[(0,)|(1,)|(2,)|(3,)]', 'irrep_2')): SingleBlockBasisExpansion()\n",
       "        )\n",
       "      )\n",
       "    )\n",
       "  )\n",
       ")"
      ]
     },
     "execution_count": 170,
     "metadata": {},
     "output_type": "execute_result"
    }
   ],
   "source": [
    "cfg = payload['config']\n",
    "cls = hydra.utils.get_class(cfg._target_)\n",
    "\n",
    "workflow = cls(cfg)\n",
    "workflow: BaseWorkflow\n",
    "workflow.load_payload(payload, exclude_keys=None, include_keys=None)\n",
    "\n",
    "policy = workflow.model\n",
    "policy = policy.to(device)\n",
    "policy.eval()"
   ]
  },
  {
   "cell_type": "code",
   "execution_count": 171,
   "id": "a16ca85d-aeb9-496d-91d4-c4e8402d94aa",
   "metadata": {},
   "outputs": [],
   "source": [
    "env = MultiStepWrapper(\n",
    "    PushTKeypointsEnv(render_action=False, random_goal_pose=False),\n",
    "    n_obs_steps=2,\n",
    "    n_action_steps=1, \n",
    "    max_episode_steps=300)\n",
    "env.seed(100018)"
   ]
  },
  {
   "cell_type": "code",
   "execution_count": 172,
   "id": "75172030-68eb-4303-b34d-4767e50e86f3",
   "metadata": {},
   "outputs": [
    {
     "name": "stderr",
     "output_type": "stream",
     "text": [
      "ALSA lib confmisc.c:855:(parse_card) cannot find card '0'\n",
      "ALSA lib conf.c:5178:(_snd_config_evaluate) function snd_func_card_inum returned error: No such file or directory\n",
      "ALSA lib confmisc.c:422:(snd_func_concat) error evaluating strings\n",
      "ALSA lib conf.c:5178:(_snd_config_evaluate) function snd_func_concat returned error: No such file or directory\n",
      "ALSA lib confmisc.c:1334:(snd_func_refer) error evaluating name\n",
      "ALSA lib conf.c:5178:(_snd_config_evaluate) function snd_func_refer returned error: No such file or directory\n",
      "ALSA lib conf.c:5701:(snd_config_expand) Evaluate error: No such file or directory\n",
      "ALSA lib pcm.c:2664:(snd_pcm_open_noupdate) Unknown PCM default\n"
     ]
    },
    {
     "data": {
      "image/png": "[encoded data removed]",
      "text/plain": [
       "<Figure size 640x480 with 1 Axes>"
      ]
     },
     "metadata": {},
     "output_type": "display_data"
    }
   ],
   "source": [
    "obs = env.reset()\n",
    "d = False\n",
    "B = 1\n",
    "img = env.render('human')\n",
    "plt.imshow(img)\n",
    "plt.show()"
   ]
  },
  {
   "cell_type": "code",
   "execution_count": 199,
   "id": "3bb4d4a2-9ea2-4d70-97c4-53a0594ffb37",
   "metadata": {},
   "outputs": [],
   "source": [
    "def step(env, obs, policy, plot=True):\n",
    "    Do = obs.shape[-1] // 2 \n",
    "    obs = torch.from_numpy(obs[:, :Do].astype(np.float32).reshape(B,2,-1,2)).to(device) # 1x2x19x2\n",
    "    x_obs = (obs.reshape(1,38,2)[:,:,0] - 255.0)\n",
    "    y_obs = (obs.reshape(1,38,2)[:,:,1] - 255.0) * -1.0\n",
    "    new_d = torch.concatenate((x_obs.unsqueeze(-1), y_obs.unsqueeze(-1)), dim=-1).view(1, -1).view(1,2,19*2)\n",
    "    nobs = policy.normalizer['obs'].normalize(new_d)\n",
    "    \n",
    "    action_stats = policy.get_action_stats()\n",
    "    action_dist = torch.distributions.Uniform(\n",
    "        low=action_stats[\"min\"], high=action_stats[\"max\"]\n",
    "    )\n",
    "    actions = action_dist.sample((1, policy.pred_n_samples, 1)).to(\n",
    "        dtype=nobs.dtype\n",
    "    )\n",
    "    num_disp = 1000\n",
    "    num_rot = 360\n",
    "    mag = torch.linspace(-1.0, 1.0, num_disp)\n",
    "    mag = mag.view(1, -1).repeat(B, 1).view(B, -1, 1, 1).to(device)\n",
    "    theta = torch.linspace(0, 2*np.pi, num_rot).to(device)\n",
    "    \n",
    "    with torch.no_grad():\n",
    "        logits = policy.energy_model.get_energy_ball(nobs, mag).view(1, -1)\n",
    "    #action_probs = torch.softmax(logits.view(1, num_disp, num_rot), dim=1)\n",
    "    action_probs = torch.softmax(logits/1, dim=1).view(1, num_disp, num_rot)\n",
    "    \n",
    "    flat_indexes = action_probs.flatten(start_dim=-2).argmax(1)\n",
    "    idx = [divmod(idx.item(), action_probs.shape[-1]) for idx in flat_indexes][0]\n",
    "    actions = torch.tensor([mag[0,idx[0],0,0], theta[idx[1]]])\n",
    "    max_disp = torch.max(action_probs, dim=-1)[0]\n",
    "    \n",
    "    img = env.render('human')\n",
    "    plt.imshow(img)\n",
    "    plt.show()\n",
    "    \n",
    "    un_mag = policy.normalizer[\"action\"].unnormalize(torch.concat((mag.view(1,-1,1).cpu(), torch.zeros(1,num_disp,1)), dim=-1))[0,:,0]\n",
    "    \n",
    "    xs = (un_mag[:].view(num_disp, 1) @ torch.cos(theta.view(1,360))).view(-1).cpu().numpy()\n",
    "    ys = (un_mag[:].view(num_disp, 1) @ torch.sin(theta.view(1,360))).view(-1).cpu().numpy()\n",
    "    zs = action_probs[0,:].view(-1).cpu().numpy()\n",
    "    #zs = logits[0,:].view(-1).cpu().numpy()\n",
    "    \n",
    "    if plot:\n",
    "        data = go.Scatter3d(\n",
    "            x=xs, \n",
    "            y=ys, \n",
    "            z=zs,\n",
    "            mode='markers', \n",
    "            marker=dict(\n",
    "                size=1,\n",
    "                color=zs,                # set color to an array/list of desired values\n",
    "                colorscale='Viridis',   # choose a colorscale\n",
    "                opacity=0.8\n",
    "            )\n",
    "        )\n",
    "        layout = go.Layout(\n",
    "            autosize=False,\n",
    "            width=1000,\n",
    "            height=1000,\n",
    "            xaxis=go.layout.XAxis(linecolor=\"black\", linewidth=1, mirror=True),\n",
    "            yaxis=go.layout.YAxis(linecolor=\"black\", linewidth=1, mirror=True),\n",
    "            margin=go.layout.Margin(l=50, r=50, b=100, t=100, pad=4),\n",
    "        )\n",
    "        fig = go.Figure(data=[data], layout=layout)\n",
    "        fig.show()\n",
    "    \n",
    "    mag = policy.normalizer[\"action\"].unnormalize(actions)[0]\n",
    "    theta = actions[1]\n",
    "    x = mag * torch.cos(theta)\n",
    "    y = mag * torch.sin(theta)\n",
    "    actions = torch.concat([x.view(B,1), y.view(B,1)], dim=1).unsqueeze(1)\n",
    "    \n",
    "    x_act = actions[:,:,0]\n",
    "    y_act = actions[:,:,1] * -1.0\n",
    "    new_act = torch.concatenate((x_act, y_act), dim=-1).view(B,1,2)\n",
    "    obs, r, d, _ = env.step(new_act.squeeze(0).cpu().numpy())\n",
    "\n",
    "    return obs"
   ]
  },
  {
   "cell_type": "code",
   "execution_count": 368,
   "id": "cb8632db-2db7-4612-95ef-8c3128eb20c2",
   "metadata": {},
   "outputs": [
    {
     "data": {
      "image/png": "[encoded data removed]",
      "text/plain": [
       "<Figure size 640x480 with 1 Axes>"
      ]
     },
     "metadata": {},
     "output_type": "display_data"
    }
   ],
   "source": [
    "obs = step(env, obs, policy, plot=False)"
   ]
  },
  {
   "cell_type": "raw",
   "id": "e8a182ff-e103-404f-a233-e44a442a9588",
   "metadata": {},
   "source": [
    "xy = np.vstack((xs, ys)).T\n",
    "\n",
    "x_range = (np.linspace(xs.min(), xs.max(), 100).reshape(100,1) @ np.cos(np.linspace(0, 2*np.pi, 90).reshape(1,90))).reshape(-1)\n",
    "y_range = (np.linspace(ys.min(), ys.max(), 100).reshape(100,1) @ np.cos(np.linspace(0, 2*np.pi, 90).reshape(1,90))).reshape(-1)\n",
    "x_mesh, y_mesh = np.meshgrid(x_range, y_range)\n",
    "z_mesh = griddata(xy, zs, (x_mesh, y_mesh), method='nearest')\n",
    "\n",
    "surface = go.Surface(x=x_range, y=y_range, z=z_mesh, colorscale='Viridis')\n",
    "data = [surface]\n",
    "fig = go.Figure(data=data, layout=layout)\n",
    "fig.show()"
   ]
  },
  {
   "cell_type": "code",
   "execution_count": null,
   "id": "90dfe0f3-8cd8-47c0-a215-9fc78de403bc",
   "metadata": {},
   "outputs": [],
   "source": []
  }
 ],
 "metadata": {
  "kernelspec": {
   "display_name": "Python 3 (ipykernel)",
   "language": "python",
   "name": "python3"
  },
  "language_info": {
   "codemirror_mode": {
    "name": "ipython",
    "version": 3
   },
   "file_extension": ".py",
   "mimetype": "text/x-python",
   "name": "python",
   "nbconvert_exporter": "python",
   "pygments_lexer": "ipython3",
   "version": "3.10.12"
  }
 },
 "nbformat": 4,
 "nbformat_minor": 5
}
