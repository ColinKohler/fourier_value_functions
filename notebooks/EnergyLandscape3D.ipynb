{
 "cells": [
  {
   "cell_type": "code",
   "execution_count": 1,
   "id": "3e71960d-4b2a-4cbc-8c19-1743219fb827",
   "metadata": {},
   "outputs": [
    {
     "name": "stdout",
     "output_type": "stream",
     "text": [
      "pygame 2.5.2 (SDL 2.28.2, Python 3.10.12)\n",
      "Hello from the pygame community. https://www.pygame.org/contribute.html\n"
     ]
    }
   ],
   "source": [
    "import os, sys\n",
    "sys.path.append('..')\n",
    "\n",
    "import io\n",
    "import torch\n",
    "import numpy as np\n",
    "import numpy.random as npr\n",
    "import hydra\n",
    "import dill\n",
    "\n",
    "import plotly as py\n",
    "import plotly.io as pio\n",
    "pio.renderers.default = 'jupyterlab'\n",
    "from scipy.interpolate import griddata\n",
    "import plotly.graph_objs as go\n",
    "import matplotlib.pyplot as plt\n",
    "import imageio\n",
    "\n",
    "from irrep_actions.gym_util.multistep_wrapper import MultiStepWrapper\n",
    "from irrep_actions.env.pusht.pusht_keypoints_env import PushTKeypointsEnv\n",
    "from irrep_actions.workflow.base_workflow import BaseWorkflow\n",
    "from irrep_actions.utils import mcmc"
   ]
  },
  {
   "cell_type": "code",
   "execution_count": 2,
   "id": "b1afb605-11b3-4441-ab39-d46b78fcae7b",
   "metadata": {},
   "outputs": [],
   "source": [
    "# CH SO2 Lmax 5\n",
    "# checkpoint = '../data/outputs/2024.01.30/16.43.31_train_so2_harmonic_implicit_policy_pusht_lowdim/checkpoints/latest.ckpt'\n",
    "\n",
    "# CH SO2 Lmax 3\n",
    "#checkpoint = '../data/outputs/2024.01.30/06.16.01_train_so2_harmonic_implicit_policy_pusht_lowdim/checkpoints/epoch=0400-test_mean_score=0.975.ckpt'\n",
    "\n",
    "# CH skip\n",
    "# checkpoint = '../data/outputs/2024.01.30/19.08.21_train_so2_harmonic_implicit_policy_pusht_lowdim/checkpoints/latest.ckpt'\n",
    "\n",
    "checkpoint = '../data/outputs/2024.02.01/21.53.16_train_so2_harmonic_implicit_policy_pusht_lowdim/checkpoints/epoch=0800-test_mean_score=0.740.ckpt'\n",
    "#checkpoint = '../data/outputs/2024.02.02/02.39.45_train_so2_harmonic_implicit_policy_pusht_lowdim/checkpoints/epoch=0350-test_mean_score=0.676.ckpt'\n",
    "\n",
    "payload = torch.load(open(checkpoint, 'rb'), pickle_module=dill)\n",
    "device = torch.device('cuda:3')"
   ]
  },
  {
   "cell_type": "code",
   "execution_count": 3,
   "id": "75e13509-9d8e-4704-b6ca-b113f90405b2",
   "metadata": {},
   "outputs": [
    {
     "ename": "RuntimeError",
     "evalue": "Error(s) in loading state_dict for ImplicitPolicy:\n\tMissing key(s) in state_dict: \"energy_model.energy_mlp.9._basisexpansion.block_expansion_('regular_[(0,)|(1,)|(2,)|(3,)]', 'irrep_0').sampled_basis\", \"energy_model.energy_mlp.9._basisexpansion.block_expansion_('regular_[(0,)|(1,)|(2,)|(3,)]', 'irrep_3').sampled_basis\", \"energy_model.energy_mlp.9._basisexpansion.block_expansion_('regular_[(0,)|(1,)|(2,)|(3,)]', 'irrep_1').sampled_basis\", \"energy_model.energy_mlp.9._basisexpansion.block_expansion_('regular_[(0,)|(1,)|(2,)|(3,)]', 'irrep_2').sampled_basis\". \n\tUnexpected key(s) in state_dict: \"energy_model.energy_mlp.9._basisexpansion.block_expansion_('regular_[(0,)|(1,)|(2,)|(3,)]', 'regular_3').sampled_basis\". ",
     "output_type": "error",
     "traceback": [
      "\u001b[0;31m---------------------------------------------------------------------------\u001b[0m",
      "\u001b[0;31mRuntimeError\u001b[0m                              Traceback (most recent call last)",
      "Cell \u001b[0;32mIn[3], line 6\u001b[0m\n\u001b[1;32m      4\u001b[0m workflow \u001b[38;5;241m=\u001b[39m \u001b[38;5;28mcls\u001b[39m(cfg)\n\u001b[1;32m      5\u001b[0m workflow: BaseWorkflow\n\u001b[0;32m----> 6\u001b[0m \u001b[43mworkflow\u001b[49m\u001b[38;5;241;43m.\u001b[39;49m\u001b[43mload_payload\u001b[49m\u001b[43m(\u001b[49m\u001b[43mpayload\u001b[49m\u001b[43m,\u001b[49m\u001b[43m \u001b[49m\u001b[43mexclude_keys\u001b[49m\u001b[38;5;241;43m=\u001b[39;49m\u001b[38;5;28;43;01mNone\u001b[39;49;00m\u001b[43m,\u001b[49m\u001b[43m \u001b[49m\u001b[43minclude_keys\u001b[49m\u001b[38;5;241;43m=\u001b[39;49m\u001b[38;5;28;43;01mNone\u001b[39;49;00m\u001b[43m)\u001b[49m\n\u001b[1;32m      8\u001b[0m policy \u001b[38;5;241m=\u001b[39m workflow\u001b[38;5;241m.\u001b[39mmodel\n\u001b[1;32m      9\u001b[0m policy \u001b[38;5;241m=\u001b[39m policy\u001b[38;5;241m.\u001b[39mto(device)\n",
      "File \u001b[0;32m~/workspace/bdai/projects/_experimental/irreps_actions/notebooks/../irrep_actions/workflow/base_workflow.py:90\u001b[0m, in \u001b[0;36mBaseWorkflow.load_payload\u001b[0;34m(self, payload, exclude_keys, include_keys, **kwargs)\u001b[0m\n\u001b[1;32m     88\u001b[0m \u001b[38;5;28;01mfor\u001b[39;00m key, value \u001b[38;5;129;01min\u001b[39;00m payload[\u001b[38;5;124m\"\u001b[39m\u001b[38;5;124mstate_dicts\u001b[39m\u001b[38;5;124m\"\u001b[39m]\u001b[38;5;241m.\u001b[39mitems():\n\u001b[1;32m     89\u001b[0m     \u001b[38;5;28;01mif\u001b[39;00m key \u001b[38;5;129;01mnot\u001b[39;00m \u001b[38;5;129;01min\u001b[39;00m exclude_keys:\n\u001b[0;32m---> 90\u001b[0m         \u001b[38;5;28;43mself\u001b[39;49m\u001b[38;5;241;43m.\u001b[39;49m\u001b[38;5;18;43m__dict__\u001b[39;49m\u001b[43m[\u001b[49m\u001b[43mkey\u001b[49m\u001b[43m]\u001b[49m\u001b[38;5;241;43m.\u001b[39;49m\u001b[43mload_state_dict\u001b[49m\u001b[43m(\u001b[49m\u001b[43mvalue\u001b[49m\u001b[43m,\u001b[49m\u001b[43m \u001b[49m\u001b[38;5;241;43m*\u001b[39;49m\u001b[38;5;241;43m*\u001b[39;49m\u001b[43mkwargs\u001b[49m\u001b[43m)\u001b[49m\n\u001b[1;32m     92\u001b[0m \u001b[38;5;28;01mfor\u001b[39;00m key \u001b[38;5;129;01min\u001b[39;00m include_keys:\n\u001b[1;32m     93\u001b[0m     \u001b[38;5;28;01mif\u001b[39;00m key \u001b[38;5;129;01min\u001b[39;00m payload[\u001b[38;5;124m\"\u001b[39m\u001b[38;5;124mpickles\u001b[39m\u001b[38;5;124m\"\u001b[39m]:\n",
      "File \u001b[0;32m~/.local/lib/python3.10/site-packages/torch/nn/modules/module.py:2152\u001b[0m, in \u001b[0;36mModule.load_state_dict\u001b[0;34m(self, state_dict, strict, assign)\u001b[0m\n\u001b[1;32m   2147\u001b[0m         error_msgs\u001b[38;5;241m.\u001b[39minsert(\n\u001b[1;32m   2148\u001b[0m             \u001b[38;5;241m0\u001b[39m, \u001b[38;5;124m'\u001b[39m\u001b[38;5;124mMissing key(s) in state_dict: \u001b[39m\u001b[38;5;132;01m{}\u001b[39;00m\u001b[38;5;124m. \u001b[39m\u001b[38;5;124m'\u001b[39m\u001b[38;5;241m.\u001b[39mformat(\n\u001b[1;32m   2149\u001b[0m                 \u001b[38;5;124m'\u001b[39m\u001b[38;5;124m, \u001b[39m\u001b[38;5;124m'\u001b[39m\u001b[38;5;241m.\u001b[39mjoin(\u001b[38;5;124mf\u001b[39m\u001b[38;5;124m'\u001b[39m\u001b[38;5;124m\"\u001b[39m\u001b[38;5;132;01m{\u001b[39;00mk\u001b[38;5;132;01m}\u001b[39;00m\u001b[38;5;124m\"\u001b[39m\u001b[38;5;124m'\u001b[39m \u001b[38;5;28;01mfor\u001b[39;00m k \u001b[38;5;129;01min\u001b[39;00m missing_keys)))\n\u001b[1;32m   2151\u001b[0m \u001b[38;5;28;01mif\u001b[39;00m \u001b[38;5;28mlen\u001b[39m(error_msgs) \u001b[38;5;241m>\u001b[39m \u001b[38;5;241m0\u001b[39m:\n\u001b[0;32m-> 2152\u001b[0m     \u001b[38;5;28;01mraise\u001b[39;00m \u001b[38;5;167;01mRuntimeError\u001b[39;00m(\u001b[38;5;124m'\u001b[39m\u001b[38;5;124mError(s) in loading state_dict for \u001b[39m\u001b[38;5;132;01m{}\u001b[39;00m\u001b[38;5;124m:\u001b[39m\u001b[38;5;130;01m\\n\u001b[39;00m\u001b[38;5;130;01m\\t\u001b[39;00m\u001b[38;5;132;01m{}\u001b[39;00m\u001b[38;5;124m'\u001b[39m\u001b[38;5;241m.\u001b[39mformat(\n\u001b[1;32m   2153\u001b[0m                        \u001b[38;5;28mself\u001b[39m\u001b[38;5;241m.\u001b[39m\u001b[38;5;18m__class__\u001b[39m\u001b[38;5;241m.\u001b[39m\u001b[38;5;18m__name__\u001b[39m, \u001b[38;5;124m\"\u001b[39m\u001b[38;5;130;01m\\n\u001b[39;00m\u001b[38;5;130;01m\\t\u001b[39;00m\u001b[38;5;124m\"\u001b[39m\u001b[38;5;241m.\u001b[39mjoin(error_msgs)))\n\u001b[1;32m   2154\u001b[0m \u001b[38;5;28;01mreturn\u001b[39;00m _IncompatibleKeys(missing_keys, unexpected_keys)\n",
      "\u001b[0;31mRuntimeError\u001b[0m: Error(s) in loading state_dict for ImplicitPolicy:\n\tMissing key(s) in state_dict: \"energy_model.energy_mlp.9._basisexpansion.block_expansion_('regular_[(0,)|(1,)|(2,)|(3,)]', 'irrep_0').sampled_basis\", \"energy_model.energy_mlp.9._basisexpansion.block_expansion_('regular_[(0,)|(1,)|(2,)|(3,)]', 'irrep_3').sampled_basis\", \"energy_model.energy_mlp.9._basisexpansion.block_expansion_('regular_[(0,)|(1,)|(2,)|(3,)]', 'irrep_1').sampled_basis\", \"energy_model.energy_mlp.9._basisexpansion.block_expansion_('regular_[(0,)|(1,)|(2,)|(3,)]', 'irrep_2').sampled_basis\". \n\tUnexpected key(s) in state_dict: \"energy_model.energy_mlp.9._basisexpansion.block_expansion_('regular_[(0,)|(1,)|(2,)|(3,)]', 'regular_3').sampled_basis\". "
     ]
    }
   ],
   "source": [
    "cfg = payload['config']\n",
    "cls = hydra.utils.get_class(cfg._target_)\n",
    "\n",
    "workflow = cls(cfg)\n",
    "workflow: BaseWorkflow\n",
    "workflow.load_payload(payload, exclude_keys=None, include_keys=None)\n",
    "\n",
    "policy = workflow.model\n",
    "policy = policy.to(device)\n",
    "policy.eval()"
   ]
  },
  {
   "cell_type": "code",
   "execution_count": null,
   "id": "a16ca85d-aeb9-496d-91d4-c4e8402d94aa",
   "metadata": {},
   "outputs": [],
   "source": [
    "env = MultiStepWrapper(\n",
    "    PushTKeypointsEnv(render_action=False, random_goal_pose=False),\n",
    "    n_obs_steps=2,\n",
    "    n_action_steps=1, \n",
    "    max_episode_steps=300)\n",
    "env.seed(100000)"
   ]
  },
  {
   "cell_type": "code",
   "execution_count": null,
   "id": "75172030-68eb-4303-b34d-4767e50e86f3",
   "metadata": {},
   "outputs": [],
   "source": [
    "obs = env.reset()\n",
    "d = False\n",
    "B = 1\n",
    "img = env.render('human')\n",
    "plt.imshow(img)\n",
    "plt.show()"
   ]
  },
  {
   "cell_type": "code",
   "execution_count": null,
   "id": "3bb4d4a2-9ea2-4d70-97c4-53a0594ffb37",
   "metadata": {},
   "outputs": [],
   "source": [
    "Do = obs.shape[-1] // 2 \n",
    "obs = torch.from_numpy(obs[:, :Do].astype(np.float32).reshape(B,2,-1,2)).to(device) # 1x2x19x2\n",
    "x_obs = (obs.reshape(1,38,2)[:,:,0] - 255.0)\n",
    "y_obs = (obs.reshape(1,38,2)[:,:,1] - 255.0) * -1.0\n",
    "new_d = torch.concatenate((x_obs.unsqueeze(-1), y_obs.unsqueeze(-1)), dim=-1).view(1, -1).view(1,2,19*2)\n",
    "nobs = policy.normalizer['obs'].normalize(new_d)\n",
    "\n",
    "action_stats = policy.get_action_stats()\n",
    "action_dist = torch.distributions.Uniform(\n",
    "    low=action_stats[\"min\"], high=action_stats[\"max\"]\n",
    ")\n",
    "actions = action_dist.sample((1, policy.pred_n_samples, 1)).to(\n",
    "    dtype=nobs.dtype\n",
    ")\n",
    "num_disp = 1000\n",
    "num_rot = 360\n",
    "mag = torch.linspace(-1.0, 1.0, num_disp)\n",
    "mag = mag.view(1, -1).repeat(B, 1).view(B, -1, 1, 1).to(device)\n",
    "theta = torch.linspace(0, 2*np.pi, num_rot).to(device)\n",
    "\n",
    "with torch.no_grad():\n",
    "    logits = policy.energy_model.get_energy_ball(nobs, mag).view(1, -1)\n",
    "#action_probs = torch.softmax(logits.view(1, num_disp, num_rot), dim=1)\n",
    "action_probs = torch.softmax(logits/2, dim=1).view(1, num_disp, num_rot)\n",
    "\n",
    "flat_indexes = action_probs.flatten(start_dim=-2).argmax(1)\n",
    "idx = [divmod(idx.item(), action_probs.shape[-1]) for idx in flat_indexes][0]\n",
    "actions = torch.tensor([mag[0,idx[0],0,0], theta[idx[1]]])\n",
    "max_disp = torch.max(action_probs, dim=-1)[0]\n",
    "\n",
    "img = env.render('human')\n",
    "plt.imshow(img)\n",
    "plt.show()\n",
    "\n",
    "un_mag = policy.normalizer[\"action\"].unnormalize(torch.concat((mag.view(1,-1,1).cpu(), torch.zeros(1,num_disp,1)), dim=-1))[0,:,0]\n",
    "\n",
    "xs = (un_mag[:].view(num_disp, 1) @ torch.cos(theta.view(1,360))).view(-1).cpu().numpy()\n",
    "ys = (un_mag[:].view(num_disp, 1) @ torch.sin(theta.view(1,360))).view(-1).cpu().numpy()\n",
    "zs = action_probs[0,:].view(-1).cpu().numpy()\n",
    "#zs = logits[0,:].view(-1).cpu().numpy()\n",
    "\n",
    "if True:\n",
    "    data = go.Scatter3d(\n",
    "        x=xs, \n",
    "        y=ys, \n",
    "        z=zs,\n",
    "        mode='markers', \n",
    "        marker=dict(\n",
    "            size=1,\n",
    "            color=zs,                # set color to an array/list of desired values\n",
    "            colorscale='Viridis',   # choose a colorscale\n",
    "            opacity=0.8\n",
    "        )\n",
    "    )\n",
    "    layout = go.Layout(\n",
    "        autosize=False,\n",
    "        width=1000,\n",
    "        height=1000,\n",
    "        xaxis=go.layout.XAxis(linecolor=\"black\", linewidth=1, mirror=True),\n",
    "        yaxis=go.layout.YAxis(linecolor=\"black\", linewidth=1, mirror=True),\n",
    "        margin=go.layout.Margin(l=50, r=50, b=100, t=100, pad=4),\n",
    "    )\n",
    "    fig = go.Figure(data=[data], layout=layout)\n",
    "    fig.show()\n",
    "\n",
    "mag = policy.normalizer[\"action\"].unnormalize(actions)[0]\n",
    "theta = actions[1]\n",
    "x = mag * torch.cos(theta)\n",
    "y = mag * torch.sin(theta)\n",
    "actions = torch.concat([x.view(B,1), y.view(B,1)], dim=1).unsqueeze(1)\n",
    "\n",
    "x_act = actions[:,:,0]\n",
    "y_act = actions[:,:,1] * -1.0\n",
    "new_act = torch.concatenate((x_act, y_act), dim=-1).view(B,1,2)\n",
    "obs, r, d, _ = env.step(new_act.squeeze(0).cpu().numpy())"
   ]
  },
  {
   "cell_type": "raw",
   "id": "e8a182ff-e103-404f-a233-e44a442a9588",
   "metadata": {},
   "source": [
    "xy = np.vstack((xs, ys)).T\n",
    "\n",
    "x_range = (np.linspace(xs.min(), xs.max(), 100).reshape(100,1) @ np.cos(np.linspace(0, 2*np.pi, 90).reshape(1,90))).reshape(-1)\n",
    "y_range = (np.linspace(ys.min(), ys.max(), 100).reshape(100,1) @ np.cos(np.linspace(0, 2*np.pi, 90).reshape(1,90))).reshape(-1)\n",
    "x_mesh, y_mesh = np.meshgrid(x_range, y_range)\n",
    "z_mesh = griddata(xy, zs, (x_mesh, y_mesh), method='nearest')\n",
    "\n",
    "surface = go.Surface(x=x_range, y=y_range, z=z_mesh, colorscale='Viridis')\n",
    "data = [surface]\n",
    "fig = go.Figure(data=data, layout=layout)\n",
    "fig.show()"
   ]
  },
  {
   "cell_type": "code",
   "execution_count": null,
   "id": "90dfe0f3-8cd8-47c0-a215-9fc78de403bc",
   "metadata": {},
   "outputs": [],
   "source": []
  }
 ],
 "metadata": {
  "kernelspec": {
   "display_name": "Python 3 (ipykernel)",
   "language": "python",
   "name": "python3"
  },
  "language_info": {
   "codemirror_mode": {
    "name": "ipython",
    "version": 3
   },
   "file_extension": ".py",
   "mimetype": "text/x-python",
   "name": "python",
   "nbconvert_exporter": "python",
   "pygments_lexer": "ipython3",
   "version": "3.10.12"
  }
 },
 "nbformat": 4,
 "nbformat_minor": 5
}
