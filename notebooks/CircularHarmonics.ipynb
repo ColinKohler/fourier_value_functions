{
 "cells": [
  {
   "cell_type": "code",
   "execution_count": 1,
   "id": "435342cf-fb86-49c7-8a1a-162d2f602aa8",
   "metadata": {},
   "outputs": [],
   "source": [
    "import numpy as np\n",
    "import numpy.random as npr\n",
    "import math\n",
    "\n",
    "import torch\n",
    "import torch.nn as nn\n",
    "import torch.nn.functional as F\n",
    "\n",
    "import matplotlib.pyplot as plt"
   ]
  },
  {
   "cell_type": "code",
   "execution_count": 2,
   "id": "07878a18-a127-4e2b-86f2-2f2282000ff1",
   "metadata": {},
   "outputs": [],
   "source": [
    "def circular_harmonics(L, theta):\n",
    "    B = [torch.tensor([1 / np.sqrt(2 * np.pi)] * theta.shape[0])]\n",
    "    for l in range(1,L+1):\n",
    "        B.append(l * torch.cos(theta) / np.sqrt(np.pi))\n",
    "        B.append(l * torch.sin(theta) / np.sqrt(np.pi))\n",
    "    return torch.stack(B).permute(1,0).unsqueeze(2).float()"
   ]
  },
  {
   "cell_type": "code",
   "execution_count": 3,
   "id": "cdeb4a09-fb33-4599-b519-9f4f4e677e36",
   "metadata": {},
   "outputs": [],
   "source": [
    "lmax = 5\n",
    "model = nn.Sequential(\n",
    "    nn.Linear(1, 8),\n",
    "    nn.ReLU(inplace=True),\n",
    "    nn.Linear(8, 2*lmax + 1)\n",
    ")"
   ]
  },
  {
   "cell_type": "code",
   "execution_count": 4,
   "id": "275cff26-2142-4ce4-9f7f-7af4935f58c7",
   "metadata": {},
   "outputs": [],
   "source": [
    "with torch.no_grad():\n",
    "    w = model(torch.rand(2,1))"
   ]
  },
  {
   "cell_type": "code",
   "execution_count": 8,
   "id": "c1a69657-075d-44ca-b93f-4aec0c6514a3",
   "metadata": {},
   "outputs": [],
   "source": [
    "Es = list()\n",
    "for theta in np.linspace(0,2*np.pi, 32):\n",
    "    B = circular_harmonics(lmax, torch.tensor([theta, theta]))\n",
    "    Es.append(torch.bmm(w.unsqueeze(1), B).squeeze())\n",
    "Es = torch.stack(Es)"
   ]
  },
  {
   "cell_type": "code",
   "execution_count": 9,
   "id": "8d680e06-260c-419f-a041-70241ab9c76d",
   "metadata": {},
   "outputs": [
    {
     "name": "stdout",
     "output_type": "stream",
     "text": [
      "torch.Size([32, 2])\n"
     ]
    }
   ],
   "source": [
    "print(Es.shape)"
   ]
  },
  {
   "cell_type": "code",
   "execution_count": null,
   "id": "79226af9-c378-4b09-b2ab-ae34d63c8afa",
   "metadata": {},
   "outputs": [],
   "source": [
    "E = Es[:,0].tolist()\n",
    "\n",
    "fig, ax = plt.subplots(subplot_kw={'projection': 'polar'})\n",
    "ax.plot(np.linspace(0,2*np.pi, 32), E)\n",
    "ax.set_rmax(np.max(E) + 0.2)\n",
    "ax.set_rticks(np.round(np.linspace(np.min(E),np.max(E), 5), 1))\n",
    "ax.grid(True)\n",
    "\n",
    "ax.set_title(\"Energy\", va='bottom')\n",
    "plt.show()"
   ]
  },
  {
   "cell_type": "code",
   "execution_count": null,
   "id": "4efdc489-80be-49ee-8b8a-922ba4475ca1",
   "metadata": {},
   "outputs": [],
   "source": []
  }
 ],
 "metadata": {
  "kernelspec": {
   "display_name": "Python 3 (ipykernel)",
   "language": "python",
   "name": "python3"
  },
  "language_info": {
   "codemirror_mode": {
    "name": "ipython",
    "version": 3
   },
   "file_extension": ".py",
   "mimetype": "text/x-python",
   "name": "python",
   "nbconvert_exporter": "python",
   "pygments_lexer": "ipython3",
   "version": "3.10.12"
  }
 },
 "nbformat": 4,
 "nbformat_minor": 5
}
