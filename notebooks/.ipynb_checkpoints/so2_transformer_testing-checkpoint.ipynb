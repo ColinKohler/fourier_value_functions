{
 "cells": [
  {
   "cell_type": "code",
   "execution_count": 1,
   "id": "7bf5774b-ef29-4539-af58-67dc670048f4",
   "metadata": {},
   "outputs": [],
   "source": [
    "import sys\n",
    "sys.path.append('/home/ckohler/workspace/bdai/projects/_experimental/fail/')\n",
    "\n",
    "import torch\n",
    "import numpy as np\n",
    "\n",
    "import escnn\n",
    "from escnn import nn as enn\n",
    "from escnn import gspaces\n",
    "from escnn import group\n",
    "\n",
    "from fail.model.so2_transformer import SO2MultiheadAttention, SO2EncoderBlock, SO2TransformerEncoder, SO2Transformer"
   ]
  },
  {
   "cell_type": "code",
   "execution_count": 2,
   "id": "b0d7ffd3-8f2a-4b6f-a08f-7747c82defbc",
   "metadata": {},
   "outputs": [],
   "source": [
    "G = group.so2_group()\n",
    "gspace = gspaces.no_base_space(G)"
   ]
  },
  {
   "cell_type": "code",
   "execution_count": 3,
   "id": "413a318b-93df-4a3a-a650-ce71ff7635be",
   "metadata": {},
   "outputs": [],
   "source": [
    "t = G.bl_regular_representation(L=5)\n",
    "id = 11"
   ]
  },
  {
   "cell_type": "code",
   "execution_count": 4,
   "id": "f6e2df45-9f96-45a5-9c6d-028f6a440be4",
   "metadata": {},
   "outputs": [],
   "source": [
    "model_dim = 8\n",
    "hidden_dim = 8\n",
    "out_dim = 1\n",
    "in_type = enn.FieldType(gspace, [t] * model_dim)\n",
    "num_heads = 4\n",
    "m = SO2Transformer(\n",
    "    in_type=in_type,\n",
    "    model_dim=model_dim,\n",
    "    out_dim=out_dim,\n",
    "    num_heads=num_heads,\n",
    "    num_layers=4, \n",
    "    dropout=0.1,\n",
    "    in_dropout=0.1\n",
    ")"
   ]
  },
  {
   "cell_type": "code",
   "execution_count": 5,
   "id": "1edac1fd-3c25-4dc3-b284-a37850fceb98",
   "metadata": {},
   "outputs": [
    {
     "name": "stdout",
     "output_type": "stream",
     "text": [
      "torch.Size([1, 20, 88])\n"
     ]
    }
   ],
   "source": [
    "x = torch.randn(1, 20, id*model_dim)\n",
    "print(x.shape)"
   ]
  },
  {
   "cell_type": "code",
   "execution_count": 6,
   "id": "abf9546a-615a-4282-9841-a8c2e1950b56",
   "metadata": {},
   "outputs": [
    {
     "data": {
      "text/plain": [
       "torch.Size([20, 11])"
      ]
     },
     "execution_count": 6,
     "metadata": {},
     "output_type": "execute_result"
    }
   ],
   "source": [
    "y = m(x)\n",
    "y.shape"
   ]
  },
  {
   "cell_type": "code",
   "execution_count": 7,
   "id": "664d60a3-9caa-4d9f-bcba-a2fd80cdf5a9",
   "metadata": {},
   "outputs": [
    {
     "data": {
      "text/plain": [
       "tensor([26.1094, 10.7588, 16.8432,  9.8071, 22.7605, 30.3195, 32.3515, 23.1880,\n",
       "         8.7990, 18.1947, 17.2120, 14.9155, 17.8798, 26.0388, 37.0092, 21.9139,\n",
       "        27.1757, 26.9467, 18.7503, 29.0477],\n",
       "       grad_fn=<LinalgVectorNormBackward0>)"
      ]
     },
     "execution_count": 7,
     "metadata": {},
     "output_type": "execute_result"
    }
   ],
   "source": [
    "torch.linalg.norm(y.tensor, dim=1)"
   ]
  },
  {
   "cell_type": "code",
   "execution_count": 8,
   "id": "d23067f5-d5ed-4318-8772-c29b689f85d7",
   "metadata": {},
   "outputs": [
    {
     "name": "stdout",
     "output_type": "stream",
     "text": [
      "Outputs' magnitudes\n",
      "[ 8.2461  9.698   4.8709  9.202  10.1814 10.4692  6.2604  9.8397  6.2164  9.4652]\n",
      "##########################################################################################\n",
      "Errors' magnitudes\n",
      "[0. 0. 0. 0. 0. 0. 0. 0. 0. 0.]\n",
      "[0. 0. 0. 0. 0. 0. 0. 0. 0. 0.]\n",
      "[0. 0. 0. 0. 0. 0. 0. 0. 0. 0.]\n",
      "[0. 0. 0. 0. 0. 0. 0. 0. 0. 0.]\n",
      "[0. 0. 0. 0. 0. 0. 0. 0. 0. 0.]\n",
      "[0. 0. 0. 0. 0. 0. 0. 0. 0. 0.]\n",
      "[0. 0. 0. 0. 0. 0. 0. 0. 0. 0.]\n",
      "[0. 0. 0. 0. 0. 0. 0. 0. 0. 0.]\n",
      "##########################################################################################\n",
      "\n"
     ]
    }
   ],
   "source": [
    "np.set_printoptions(linewidth=10000, precision=4, suppress=True)\n",
    "\n",
    "m.eval()\n",
    "B = 10\n",
    "L = 20\n",
    "x = torch.randn(B, L, id*model_dim)\n",
    "\n",
    "with torch.no_grad():\n",
    "    y = m(x)\n",
    "    print(\"Outputs' magnitudes\")\n",
    "    print(torch.linalg.norm(y.tensor, dim=1).numpy().reshape(-1)[:10])\n",
    "    print('##########################################################################################')\n",
    "    print(\"Errors' magnitudes\")\n",
    "    for r in range(8):\n",
    "        # sample a random rotation\n",
    "        g = G.sample()\n",
    "        \n",
    "        x_transformed = (g @ m.in_type(x.view(B*L, -1))).tensor.view(B,L,-1)\n",
    "        x_transformed = x_transformed\n",
    "\n",
    "        y_transformed = m(x_transformed)\n",
    "        \n",
    "        # verify that f(g@x) = g@f(x)=g@y\n",
    "        print(torch.linalg.norm(y_transformed.tensor - (g @ y).tensor, dim=1).numpy().reshape(-1)[:10])\n",
    "        \n",
    "\n",
    "print('##########################################################################################')\n",
    "print()"
   ]
  },
  {
   "cell_type": "code",
   "execution_count": 9,
   "id": "c619b137-f5ab-49c2-be1e-f74fa2a2dad5",
   "metadata": {},
   "outputs": [
    {
     "data": {
      "text/plain": [
       "[SO(2): {regular_5 (x8)}(88)]"
      ]
     },
     "execution_count": 9,
     "metadata": {},
     "output_type": "execute_result"
    }
   ],
   "source": [
    "in_type"
   ]
  },
  {
   "cell_type": "code",
   "execution_count": null,
   "id": "f5349460-59dd-4824-b397-ab5905d98f6a",
   "metadata": {},
   "outputs": [],
   "source": []
  }
 ],
 "metadata": {
  "kernelspec": {
   "display_name": "Python 3 (ipykernel)",
   "language": "python",
   "name": "python3"
  },
  "language_info": {
   "codemirror_mode": {
    "name": "ipython",
    "version": 3
   },
   "file_extension": ".py",
   "mimetype": "text/x-python",
   "name": "python",
   "nbconvert_exporter": "python",
   "pygments_lexer": "ipython3",
   "version": "3.10.12"
  }
 },
 "nbformat": 4,
 "nbformat_minor": 5
}
